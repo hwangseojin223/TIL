{
 "cells": [
  {
   "cell_type": "markdown",
   "metadata": {
    "id": "mawznY9l-tXv"
   },
   "source": [
    "## 개수 구하기\n",
    "\n",
    "> 주어진 리스트의 요소는 학생 이름으로 구성되어 있다. 학생들의 수를 출력하시오.\n",
    "\n",
    "---\n",
    "\n",
    "```\n",
    "[출력 예시]\n",
    "3\n",
    "```"
   ]
  },
  {
   "cell_type": "code",
   "execution_count": 2,
   "metadata": {
    "ExecuteTime": {
     "end_time": "2020-07-20T07:21:43.556594Z",
     "start_time": "2020-07-20T07:21:43.553351Z"
    },
    "id": "Mf5Zu04f-tXv",
    "outputId": "d13ca86f-acf5-4abd-a255-e382d5cd66b6"
   },
   "outputs": [
    {
     "data": {
      "text/plain": [
       "3"
      ]
     },
     "execution_count": 2,
     "metadata": {},
     "output_type": "execute_result"
    }
   ],
   "source": [
    "students = ['김철수', '이영희', '조민지', '조민지', '이영희', '김철수']\n",
    "\n",
    "# 아래에 코드를 작성하세요\n",
    "len(set(students))"
   ]
  },
  {
   "cell_type": "code",
   "execution_count": 3,
   "metadata": {},
   "outputs": [
    {
     "name": "stdout",
     "output_type": "stream",
     "text": [
      "3\n"
     ]
    }
   ],
   "source": [
    "uniq_names = []\n",
    "\n",
    "for student in students:\n",
    "    if student not in uniq_names:\n",
    "        uniq_names.append(student)\n",
    "print(len(uniq_names))"
   ]
  },
  {
   "cell_type": "markdown",
   "metadata": {
    "id": "rCjG6tqu-tXx"
   },
   "source": [
    "## 득표수 구하기\n",
    "\n",
    "> 주어진 리스트는 반장 선거 투표 결과이다. 이영희의 총 득표수를 출력하시오.\n",
    "\n",
    "---\n",
    "\n",
    "```\n",
    "[출력 예시]\n",
    "4\n",
    "```"
   ]
  },
  {
   "cell_type": "code",
   "execution_count": 3,
   "metadata": {
    "id": "gWw-l9m--tXy",
    "outputId": "f9073c85-17f8-4ef6-9066-2773b41972a8"
   },
   "outputs": [
    {
     "name": "stdout",
     "output_type": "stream",
     "text": [
      "4\n"
     ]
    }
   ],
   "source": [
    "students = ['이영희', '김철수', '이영희', '조민지', '김철수', '조민지', '이영희', '이영희']\n",
    "\n",
    "# 아래에 코드를 작성하시오.\n",
    "vote = 0\n",
    "\n",
    "for name in students:\n",
    "    if name == '이영희':\n",
    "        vote += 1\n",
    "print(vote)"
   ]
  },
  {
   "cell_type": "code",
   "execution_count": null,
   "metadata": {},
   "outputs": [],
   "source": [
    "#dict\n",
    "#{'이영희';4, '김철수':2, '조민지':2}\n",
    "\n"
   ]
  },
  {
   "cell_type": "markdown",
   "metadata": {
    "id": "602xpRW_-tXz"
   },
   "source": [
    "## 최댓값 구하기\n",
    "\n",
    "> 주어진 리스트의 요소 중에서 최댓값을 출력하시오.\n",
    "\n",
    "---\n",
    "```\n",
    "[출력 예시]\n",
    "22\n",
    "```"
   ]
  },
  {
   "cell_type": "code",
   "execution_count": 27,
   "metadata": {
    "id": "EC6dpWRD-tX0",
    "outputId": "464b2054-153b-4892-db71-6fee4eb23cc8"
   },
   "outputs": [
    {
     "name": "stdout",
     "output_type": "stream",
     "text": [
      "22\n"
     ]
    }
   ],
   "source": [
    "numbers = [0, 7, 10, 22, 4, 3, 17]\n",
    "\n",
    "# 아래에 코드를 작성하시오.\n",
    "max_num = numbers[0]\n",
    "\n",
    "for i in range(1, len(numbers)):    \n",
    "    if max_num < numbers[i]:\n",
    "        max_num = numbers[i]\n",
    "print(max_num)"
   ]
  },
  {
   "cell_type": "markdown",
   "metadata": {
    "id": "7BNase6o-tX0"
   },
   "source": [
    "## 최솟값 구하기\n",
    "\n",
    "> 주어진 리스트의 요소 중에서 최솟값을 출력하시오.\n",
    "---\n",
    "```\n",
    "[출력 예시]\n",
    "3\n",
    "```"
   ]
  },
  {
   "cell_type": "code",
   "execution_count": 4,
   "metadata": {
    "id": "tbyMg7CD-tX0",
    "outputId": "d9dcc77d-edb8-4521-80b7-2a807edd5463"
   },
   "outputs": [
    {
     "name": "stdout",
     "output_type": "stream",
     "text": [
      "3\n"
     ]
    }
   ],
   "source": [
    "numbers = [7, 10, 22, 4, 3, 17]\n",
    "\n",
    "# 아래에 코드를 작성하시오.\n",
    "min_num = numbers[0]\n",
    "\n",
    "for i in range(1, len(numbers)):    \n",
    "    if min_num > numbers[i]:\n",
    "        min_num = numbers[i]\n",
    "print(min_num)\n"
   ]
  },
  {
   "cell_type": "code",
   "execution_count": 5,
   "metadata": {},
   "outputs": [
    {
     "name": "stdout",
     "output_type": "stream",
     "text": [
      "3\n"
     ]
    }
   ],
   "source": [
    "min_num = numbers[0]\n",
    "\n",
    "for num in numbers:    \n",
    "    if min_num > num:\n",
    "        min_num = num\n",
    "print(min_num)"
   ]
  },
  {
   "cell_type": "code",
   "execution_count": null,
   "metadata": {},
   "outputs": [],
   "source": [
    "#numbers에서 최대 최소 동시에 구하기\n",
    "#1회 for문으로 한번에 최대최소 구하기"
   ]
  },
  {
   "cell_type": "markdown",
   "metadata": {
    "id": "3UMhzTbP-tX0"
   },
   "source": [
    "## 최댓값과 등장 횟수 구하기\n",
    "\n",
    "> 주어진 리스트의 요소 중에서 최댓값과 등장 횟수를 출력하시오.\n",
    "\n",
    "---\n",
    "\n",
    "```\n",
    "[출력 예시]\n",
    "22 3\n",
    "```"
   ]
  },
  {
   "cell_type": "code",
   "execution_count": 6,
   "metadata": {
    "ExecuteTime": {
     "end_time": "2020-07-20T07:14:08.319167Z",
     "start_time": "2020-07-20T07:14:08.316606Z"
    },
    "id": "jHjLTcTS-tX1",
    "outputId": "959258b8-0c6e-4258-c3ba-07a6f624954e"
   },
   "outputs": [
    {
     "name": "stdout",
     "output_type": "stream",
     "text": [
      "22 3\n"
     ]
    }
   ],
   "source": [
    "numbers = [7, 10, 22, 7, 22, 22]\n",
    "\n",
    "# 아래에 코드를 작성하시오.\n",
    "max_num = numbers[0]\n",
    "count = 0\n",
    "\n",
    "for i in range(1, len(numbers)):    \n",
    "    if max_num < numbers[i]:\n",
    "        max_num = numbers[i]\n",
    "for i in numbers:\n",
    "    if i == max_num:\n",
    "        count += 1\n",
    "        \n",
    "print(max_num, count)"
   ]
  },
  {
   "cell_type": "code",
   "execution_count": 7,
   "metadata": {},
   "outputs": [
    {
     "name": "stdout",
     "output_type": "stream",
     "text": [
      "22 3 3\n"
     ]
    }
   ],
   "source": [
    "# 시간복잡도(imte-comlexity) 2n\n",
    "max_num = numbers[0]\n",
    "\n",
    "for num in numbers:\n",
    "    if num > max_num:\n",
    "        max_num = num\n",
    "max_count = 0\n",
    "for num in numbers:\n",
    "    if num == max_num:\n",
    "        max_count += 1\n",
    "        \n",
    "print(max_num, numbers.count(max_num),max_count)"
   ]
  },
  {
   "cell_type": "code",
   "execution_count": 12,
   "metadata": {},
   "outputs": [
    {
     "name": "stdout",
     "output_type": "stream",
     "text": [
      "100 2\n"
     ]
    }
   ],
   "source": [
    "# 시간복잡도 n번 순회\n",
    "numbers = [7, 10, 22, 7, 22, 22, 100, 100]\n",
    "\n",
    "max_num = numbers[0]\n",
    "max_count = 0\n",
    "\n",
    "for num in numbers:\n",
    "    #최대값보다 크다면 => 새로운 최대값 발견 => \n",
    "    if num > max_num:\n",
    "        #갱신\n",
    "        max_num = num\n",
    "        #카운트 리셋\n",
    "        max_count = 1\n",
    "    #최대값과 같다면,\n",
    "    elif num == max_num:\n",
    "        #카운트 += 1\n",
    "        max_count += 1\n",
    "print(max_num, max_count)"
   ]
  },
  {
   "cell_type": "markdown",
   "metadata": {
    "id": "yl-AuKGz-tX1"
   },
   "source": [
    "## 5의 개수 구하기\n",
    "\n",
    "> 주어진 리스트의 요소 중에서 5의 개수를 출력하시오.\n",
    "---\n",
    "```\n",
    "[출력 예시]\n",
    "3\n",
    "```"
   ]
  },
  {
   "cell_type": "code",
   "execution_count": 14,
   "metadata": {
    "id": "E5XxJeog-tX2",
    "outputId": "5dc7ba02-7302-4fa4-d7ae-3133fdc41ade"
   },
   "outputs": [
    {
     "name": "stdout",
     "output_type": "stream",
     "text": [
      "3\n"
     ]
    }
   ],
   "source": [
    "numbers = [7, 17, 10, 5, 4, 3, 17, 5, 2, 5]\n",
    "\n",
    "# 아래에 코드를 작성하시오.\n",
    "count = 0\n",
    "for num in numbers:\n",
    "    if num == 5:\n",
    "        count += 1\n",
    "print(count)"
   ]
  },
  {
   "cell_type": "code",
   "execution_count": 15,
   "metadata": {},
   "outputs": [
    {
     "data": {
      "text/plain": [
       "3"
      ]
     },
     "execution_count": 15,
     "metadata": {},
     "output_type": "execute_result"
    }
   ],
   "source": [
    "numbers.count(5)"
   ]
  },
  {
   "cell_type": "markdown",
   "metadata": {
    "id": "nTnijNla-tX2"
   },
   "source": [
    "## 'a'가 싫어\n",
    "\n",
    "\n",
    "> 입력으로 짧은 영단어 word가 주어질 때, 해당 단어에서 'a'를 모두 제거한 결과를 출력하시오.\n",
    "\n",
    "---\n",
    "```\n",
    "[입력 예시]\n",
    "apple\n",
    "\n",
    "[출력 예시]\n",
    "pple\n",
    "```"
   ]
  },
  {
   "cell_type": "code",
   "execution_count": 17,
   "metadata": {
    "id": "1DHHcBfV-tX2",
    "outputId": "e740fcde-167c-4f84-aeae-98175ee130bb"
   },
   "outputs": [
    {
     "name": "stdout",
     "output_type": "stream",
     "text": [
      "apple\n",
      "pple\n"
     ]
    }
   ],
   "source": [
    "word = input()\n",
    "\n",
    "# 아래에 코드를 작성하시오.\n",
    "new_word = ''\n",
    "for char in word:\n",
    "    if char != 'a':\n",
    "        new_word += char\n",
    "print(new_word)\n"
   ]
  },
  {
   "cell_type": "code",
   "execution_count": 20,
   "metadata": {},
   "outputs": [
    {
     "data": {
      "text/plain": [
       "'pple'"
      ]
     },
     "execution_count": 20,
     "metadata": {},
     "output_type": "execute_result"
    }
   ],
   "source": [
    "word = 'apple'\n",
    "word.replace('a','')"
   ]
  },
  {
   "cell_type": "markdown",
   "metadata": {
    "id": "pFrdnc31-tX2"
   },
   "source": [
    "## 단어 뒤집기\n",
    "\n",
    "> 입력으로 짧은 영어단어 word가 주어질 때, 해당 단어를 역순으로 뒤집은 결과를 출력하시오.\n",
    "\n",
    "---\n",
    "```\n",
    "[입력 예시]\n",
    "apple\n",
    "\n",
    "[출력 예시]\n",
    "elppa\n",
    "```"
   ]
  },
  {
   "cell_type": "code",
   "execution_count": 33,
   "metadata": {
    "id": "E9zRZx__-tX3",
    "outputId": "81ead295-2c18-4a79-c6fa-c5022f0827d8"
   },
   "outputs": [
    {
     "name": "stdout",
     "output_type": "stream",
     "text": [
      "round\n",
      "dnuor\n"
     ]
    }
   ],
   "source": [
    "word = input()\n",
    "\n",
    "# 아래에 코드를 작성하시오.\n",
    "new_word=''\n",
    "for idx in range(len(word)-1, -1, -1):\n",
    "    new_word += word[idx]\n",
    "print(new_word)"
   ]
  },
  {
   "cell_type": "code",
   "execution_count": 22,
   "metadata": {},
   "outputs": [
    {
     "name": "stdout",
     "output_type": "stream",
     "text": [
      "apple\n",
      "elppa\n"
     ]
    }
   ],
   "source": [
    "word = input()\n",
    "\n",
    "# 아래에 코드를 작성하시오.\n",
    "new_word=''\n",
    "for char in word:\n",
    "    new_word = char + new_word\n",
    "print(new_word)"
   ]
  },
  {
   "cell_type": "code",
   "execution_count": 21,
   "metadata": {},
   "outputs": [
    {
     "data": {
      "text/plain": [
       "'dnuor'"
      ]
     },
     "execution_count": 21,
     "metadata": {},
     "output_type": "execute_result"
    }
   ],
   "source": [
    "word = 'round'\n",
    "word[::-1]"
   ]
  }
 ],
 "metadata": {
  "colab": {
   "provenance": []
  },
  "kernelspec": {
   "display_name": "Python 3 (ipykernel)",
   "language": "python",
   "name": "python3"
  },
  "language_info": {
   "codemirror_mode": {
    "name": "ipython",
    "version": 3
   },
   "file_extension": ".py",
   "mimetype": "text/x-python",
   "name": "python",
   "nbconvert_exporter": "python",
   "pygments_lexer": "ipython3",
   "version": "3.11.4"
  },
  "toc": {
   "base_numbering": 1,
   "nav_menu": {},
   "number_sections": true,
   "sideBar": true,
   "skip_h1_title": false,
   "title_cell": "Table of Contents",
   "title_sidebar": "Contents",
   "toc_cell": false,
   "toc_position": {},
   "toc_section_display": true,
   "toc_window_display": false
  }
 },
 "nbformat": 4,
 "nbformat_minor": 4
}
