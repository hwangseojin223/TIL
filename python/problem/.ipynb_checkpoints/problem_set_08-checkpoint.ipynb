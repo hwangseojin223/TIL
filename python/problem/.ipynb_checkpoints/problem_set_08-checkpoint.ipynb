{
 "cells": [
  {
   "cell_type": "markdown",
   "metadata": {},
   "source": [
    "# 문제\n",
    "> 입력된 모든 (숫자 * 번째)의 합계를 반환하는 함수를 작성하세요.\n",
    "> 함수에 전달된 인자가 없으면 0을 반환합니다.\n",
    "---\n",
    "\n",
    "예시)\n",
    "\n",
    "```python\n",
    "add(3, 4, 5) #=> (3*1번째)+(4*2번째)+(5*3번째) => 26\n",
    "add() #=> 인자없음 => 0\n",
    "add(1, 2, 3) #=> (1*1번째)+(2*2번째)+(3*3번째) => 14\n",
    "add(1, 4, -5, 5) #=> (1*1번째)+(4*2번째)+(-5*3번째)+(5*4번째) => 14\n",
    "```\n",
    "\n",
    "**유의) 인자가 없으면 0을 반환합니다.**"
   ]
  },
  {
   "cell_type": "code",
   "execution_count": null,
   "metadata": {},
   "outputs": [],
   "source": [
    "# 아래에 코드를 작성하세요."
   ]
  },
  {
   "cell_type": "code",
   "execution_count": null,
   "metadata": {},
   "outputs": [],
   "source": [
    "def add(*numbers):\n",
    "    total = 0\n",
    "    for idx, num in enumerate(numbers):\n",
    "        total += (idx+1) * num\n",
    "    return total"
   ]
  },
  {
   "cell_type": "code",
   "execution_count": 17,
   "metadata": {},
   "outputs": [],
   "source": [
    "def add(*numbers):\n",
    "    total = 0\n",
    "    for num in numbers:\n",
    "        total += (num*(numbers.index(num)+1))\n",
    "    return total"
   ]
  },
  {
   "cell_type": "code",
   "execution_count": 18,
   "metadata": {},
   "outputs": [
    {
     "name": "stdout",
     "output_type": "stream",
     "text": [
      "26\n",
      "0\n",
      "14\n",
      "14\n",
      "85\n"
     ]
    }
   ],
   "source": [
    "# 해당 코드를 통해 올바른 결과가 나오는지 확인하세요.\n",
    "print(add(3, 4, 5))\n",
    "print(add())\n",
    "print(add(1, 2, 3))\n",
    "print(add(1, 4, -5, 5))\n",
    "print(add(3, 4, 5, 6, 7))"
   ]
  },
  {
   "cell_type": "markdown",
   "metadata": {},
   "source": [
    "# 문제\n",
    "\n",
    "> 같은 숫자가 한개 있거나 두개가 들어있는 리스트가 주어집니다. 이러한 리스트에서 숫자가 한개만 있는 요소들의 합을 구하는 함수를 작성하세요.\n",
    ">\n",
    "> 예를 들어, `repeats([4, 5, 7, 5, 4, 8]) = 15`는 7과 8이 한번만 나오기 때문에 두개를 더한 15가 결과값으로 도출됩니다. \n",
    "\n",
    "---\n",
    "\n",
    "예시)\n",
    "\n",
    "```python\n",
    "print(repeats([4, 4, 7, 8, 10])) # => 25\n",
    "```\n"
   ]
  },
  {
   "cell_type": "code",
   "execution_count": null,
   "metadata": {},
   "outputs": [],
   "source": [
    "# 아래에 코드를 작성하세요."
   ]
  },
  {
   "cell_type": "code",
   "execution_count": 27,
   "metadata": {},
   "outputs": [],
   "source": [
    "def repeats(numbers):\n",
    "    for num in numbers:\n",
    "        if numbers.count(num) >= 2:\n",
    "            for _ in range(numbers.count(num)):\n",
    "                numbers.remove(num)\n",
    "    total = 0\n",
    "    for num in numbers:\n",
    "        total += num\n",
    "    return total"
   ]
  },
  {
   "cell_type": "code",
   "execution_count": 28,
   "metadata": {},
   "outputs": [
    {
     "name": "stdout",
     "output_type": "stream",
     "text": [
      "25\n"
     ]
    }
   ],
   "source": [
    "# 해당 코드를 통해 올바른 결과가 나오는지 확인하세요.\n",
    "print(repeats([4, 4, 7, 8, 10]))"
   ]
  },
  {
   "cell_type": "markdown",
   "metadata": {},
   "source": [
    "# 문제\n",
    "\n",
    "> 과수원에 농부 한명이 썩은 과일이 몇개 들어있는 과일 봉지를 가지고 있습니다. (이 과일 봉지는리스트를 의미합니다.)\n",
    ">\n",
    "> 썩은 과일 조각들을 모두 신선한 것으로 교체하는 함수를 작성하세요. (rotten과일을 신선한 과일로 바꿔야 합니다.)\n",
    ">\n",
    "> 예를 들어,\n",
    "- `['apple', 'rottenBanana', 'apple']` 이라는 리스트가 주어진 경우, 대체된 리스트는 `['apple', 'banana', 'apple']` 이어야 합니다. \n",
    ">\n",
    ">\n",
    "> **유의**\n",
    "- 만약 리스트가 null/nil/None이거나 비어 있는 경우 빈 리스트를 반환합니다.\n",
    "- 반환된 리스트는 소문자여야 합니다,\n",
    "\n",
    "---\n",
    "\n",
    "예시)\n",
    "\n",
    "```python\n",
    "print(remove_rotten(['apple', 'rottenBanana', 'apple'] ))\n",
    "# => ['apple', 'banana', 'apple']\n",
    "\n",
    "print(remove_rotten(['rottenapple', 'rottenBanana', 'apple', 'rottenGrape']))\n",
    "# => ['apple', 'banana', 'apple', 'grape']\n",
    "```"
   ]
  },
  {
   "cell_type": "code",
   "execution_count": null,
   "metadata": {},
   "outputs": [],
   "source": [
    "# 아래에 코드를 작성하세요."
   ]
  },
  {
   "cell_type": "code",
   "execution_count": 48,
   "metadata": {},
   "outputs": [],
   "source": [
    "def remove_rotten(fruits):\n",
    "    new_fruits = []\n",
    "    if len(fruits) == 0:\n",
    "        return new_fruits\n",
    "    else:\n",
    "        for fruit in fruits:\n",
    "            if fruit[0:6] == 'rotten':\n",
    "                new_fruits.append(fruit[6:])\n",
    "            else:\n",
    "                new_fruits.append(fruit)\n",
    "    return new_fruits\n",
    "        \n",
    "            \n",
    "\n"
   ]
  },
  {
   "cell_type": "code",
   "execution_count": 49,
   "metadata": {},
   "outputs": [
    {
     "name": "stdout",
     "output_type": "stream",
     "text": [
      "['apple', 'Banana', 'apple']\n",
      "['apple', 'Banana', 'apple', 'Grape']\n"
     ]
    }
   ],
   "source": [
    "# 해당 코드를 통해 올바른 결과가 나오는지 확인하세요.\n",
    "print(remove_rotten(['apple', 'rottenBanana', 'apple'] ))\n",
    "print(remove_rotten(['rottenapple', 'rottenBanana', 'apple', 'rottenGrape']))"
   ]
  },
  {
   "cell_type": "markdown",
   "metadata": {},
   "source": [
    "# 문제\n",
    "\n",
    "> 마을의 신호등을 제어하는 함수를 작성하려고 합니다. 녹색 -> 노란색 -> 빨간색 \n",
    "-> 녹색으로 변환하는 함수가 필요합니다. \n",
    ">\n",
    "> 현재의 불빛 상태를 나타내는 인자하고 함수를 실행 시켰을 때 변경 되어야 하는 빛의 색을 \n",
    "나타내는 함수를 작성하세요.\n",
    "\n",
    "---\n",
    "\n",
    "예시)\n",
    "\n",
    "```python\n",
    "print(update_light('red')) # => 'green'\n",
    "print(update_light('green')) #=> 'yellow'\n",
    "```"
   ]
  },
  {
   "cell_type": "code",
   "execution_count": null,
   "metadata": {},
   "outputs": [],
   "source": [
    "# 아래에 코드를 작성하세요."
   ]
  },
  {
   "cell_type": "code",
   "execution_count": null,
   "metadata": {},
   "outputs": [],
   "source": [
    "def update_light(color):\n",
    "    lights = ['green', 'yello', 'red']\n",
    "    \n",
    "    idx = lights.index(color)\n",
    "    idx = (idx + 1) % 3\n",
    "    \n",
    "    return lights[idx]"
   ]
  },
  {
   "cell_type": "code",
   "execution_count": 3,
   "metadata": {},
   "outputs": [],
   "source": [
    "def update_light(color):\n",
    "    if color == 'green':\n",
    "        color = color.replace('green', 'yellow')\n",
    "    elif color == 'yellow':\n",
    "        color = color.replace('yellow', 'red')\n",
    "    elif color == 'red':\n",
    "        color = color.replace('red', 'green')\n",
    "    return color"
   ]
  },
  {
   "cell_type": "code",
   "execution_count": 4,
   "metadata": {},
   "outputs": [
    {
     "name": "stdout",
     "output_type": "stream",
     "text": [
      "green\n",
      "yellow\n"
     ]
    }
   ],
   "source": [
    "# 해당 코드를 통해 올바른 결과가 나오는지 확인하세요.\n",
    "print(update_light('red'))\n",
    "print(update_light('green'))"
   ]
  },
  {
   "cell_type": "markdown",
   "metadata": {},
   "source": [
    "# 문제\n",
    "\n",
    "> Arara는 셈을 한쌍으로 하는 아마존에 살고 있는 부족입니다. 이들이 행하는 셈의 방식은 다음과 같습니다.\n",
    ">\n",
    "> 예를 들어, 1에서 8까지는 셈을 한다면,\n",
    "- 1 = anane \n",
    "- 2 = adak \n",
    "- 3 = adak anane \n",
    "- 4 = adak adak \n",
    "- 5 = adak adak anane \n",
    "- 6 = adak adak adak\n",
    "- 7 = adak adak adak anane\n",
    "- 8 = adak adak adak adak \n",
    ">\n",
    "> 주어진 숫자 인자를 통해 다음과 같은 함수를 작성하세요.\n",
    "\n",
    "---\n",
    "\n",
    "예시)\n",
    "\n",
    "```python\n",
    "print(count_arara(3)) # -> 'adak anane'\n",
    "print(count_arara(8)) # -> 'adak adak adak adak'\n",
    "```"
   ]
  },
  {
   "cell_type": "code",
   "execution_count": null,
   "metadata": {},
   "outputs": [],
   "source": [
    "# 아래에 코드를 작성하세요."
   ]
  },
  {
   "cell_type": "code",
   "execution_count": 14,
   "metadata": {},
   "outputs": [],
   "source": [
    "def count_arara(num):\n",
    "    adak = num//2\n",
    "    anane = num%2\n",
    "    arara = 'adak '*adak + 'anane'*anane\n",
    "    return arara"
   ]
  },
  {
   "cell_type": "code",
   "execution_count": 15,
   "metadata": {},
   "outputs": [
    {
     "name": "stdout",
     "output_type": "stream",
     "text": [
      "adak anane\n",
      "adak adak adak adak \n"
     ]
    }
   ],
   "source": [
    "# 해당 코드를 통해 올바른 결과가 나오는지 확인하세요.\n",
    "print(count_arara(3))\n",
    "print(count_arara(8))"
   ]
  },
  {
   "cell_type": "markdown",
   "metadata": {},
   "source": [
    "# 문제 \n",
    "\n",
    "> 제 친구 Rora는 그녀가 하고있는 밴드의 이름을 바꾸고 싶어합니다.\n",
    ">\n",
    "> 그녀는 \"The\" + a 대문자 명사 형태의 밴드 이름을 원합니다. 예를 들어, \"dolphin\" -> \"The Dolphin\"와 같습니다.\n",
    ">\n",
    "> 혹은 앞뒤가 같은 단어인 명사를 반복하여 결합하여 첫번째 문자를 대문자로 시작하는 밴드 이름을 \n",
    "만들고 싶어합니다. (이때는 앞쪽에 'The'가 없음) 예를 들어, \"alaska\" -> \"Alaskaalaska\"과 같습니다.\n",
    ">\n",
    "> 명사를 문자열로 하는 함수를 작성하고 선호하는 밴드 이름을 문자열로 표시하세요.\n",
    "\n",
    "---\n",
    "\n",
    "예시)\n",
    "\n",
    "```python\n",
    "print(band_name_generator('dolphinyap')) # => The Dolphinyap\n",
    "print(band_name_generator('aka')) # => Akaaka\n",
    "```"
   ]
  },
  {
   "cell_type": "code",
   "execution_count": null,
   "metadata": {},
   "outputs": [],
   "source": [
    "# 아래에 코드를 작성하세요."
   ]
  },
  {
   "cell_type": "code",
   "execution_count": 1,
   "metadata": {},
   "outputs": [],
   "source": [
    "def band_name_generator(word):\n",
    "    if word[0] == word[-1]:\n",
    "        return (word + word[::-1]).capitalize()\n",
    "    else:\n",
    "        return 'The' + word.capitalize()\n",
    "    "
   ]
  },
  {
   "cell_type": "code",
   "execution_count": 2,
   "metadata": {},
   "outputs": [
    {
     "name": "stdout",
     "output_type": "stream",
     "text": [
      "TheDolphinyap\n",
      "Akaaka\n"
     ]
    }
   ],
   "source": [
    "# 해당 코드를 통해 올바른 결과가 나오는지 확인하세요.\n",
    "print(band_name_generator('dolphinyap'))\n",
    "print(band_name_generator('aka'))"
   ]
  },
  {
   "cell_type": "code",
   "execution_count": null,
   "metadata": {},
   "outputs": [],
   "source": []
  }
 ],
 "metadata": {
  "kernelspec": {
   "display_name": "Python 3 (ipykernel)",
   "language": "python",
   "name": "python3"
  },
  "language_info": {
   "codemirror_mode": {
    "name": "ipython",
    "version": 3
   },
   "file_extension": ".py",
   "mimetype": "text/x-python",
   "name": "python",
   "nbconvert_exporter": "python",
   "pygments_lexer": "ipython3",
   "version": "3.11.4"
  },
  "toc": {
   "base_numbering": 1,
   "nav_menu": {},
   "number_sections": true,
   "sideBar": true,
   "skip_h1_title": false,
   "title_cell": "Table of Contents",
   "title_sidebar": "Contents",
   "toc_cell": false,
   "toc_position": {},
   "toc_section_display": true,
   "toc_window_display": false
  },
  "vscode": {
   "interpreter": {
    "hash": "51d354aa4721e008858a28cad10f7efbfd288bcf50ac31411bfc117a31ae17c9"
   }
  }
 },
 "nbformat": 4,
 "nbformat_minor": 2
}
