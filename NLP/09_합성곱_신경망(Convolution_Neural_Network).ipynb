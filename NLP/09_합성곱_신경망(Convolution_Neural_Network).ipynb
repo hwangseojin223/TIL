{
  "nbformat": 4,
  "nbformat_minor": 0,
  "metadata": {
    "colab": {
      "provenance": []
    },
    "kernelspec": {
      "name": "python3",
      "display_name": "Python 3"
    },
    "accelerator": "GPU"
  },
  "cells": [
    {
      "cell_type": "markdown",
      "metadata": {
        "id": "86l7I5SQ_u9J"
      },
      "source": [
        "# 합성곱 신경망(Convolution Neural Network)\n",
        "\n",
        "- 이미지 인식, 음성 인식 등에 자주 사용되는데,  \n",
        "  특히, 이미지 인식 분야에서 거의 모든 딥러닝 기술에 사용\n",
        "\n",
        "<br>\n",
        "\n",
        "## 컨볼루션 신경망의 등장\n",
        "- 1989년 얀 르쿤(Yann LeCun) 교수의 논문에서 발표\n",
        "\n",
        "  - 필기체 인식에서 의미가 있었지만 범용화하는데에는 무리\n",
        "\n",
        "- 1998년, \"Gradient-Based Learning Applied to Document Recognition\"이라는 논문에서 LeNet-5 제시\n",
        "\n",
        "- 합성곱 층(convolution layer), 풀링 층(pooling layer) 소개\n",
        "  <br>\n",
        "\n",
        "  <img src=\"https://miro.medium.com/max/4308/1*1TI1aGBZ4dybR6__DI9dzA.png\">\n",
        "  \n",
        "  <center>[LeNet-5 구조]</center>\n",
        "\n",
        "  <sub>출처: https://medium.com/@pechyonkin/key-deep-learning-architectures-lenet-5-6fc3c59e6f4</sub>"
      ]
    },
    {
      "cell_type": "markdown",
      "metadata": {
        "id": "Y46evOQHNukF"
      },
      "source": [
        "## 컨볼루션 신경망 구조 예시\n",
        "\n",
        "<img src=\"https://www.oreilly.com/library/view/neural-network-projects/9781789138900/assets/c38754ca-f2ea-425a-b7a6-1fe0f2f5074e.png\" width=\"600\">\n",
        "\n",
        "<sub>출처: https://www.oreilly.com/library/view/neural-network-projects/9781789138900/8e87ad66-6de3-4275-81a4-62b54436bf16.xhtml</sub>\n",
        "\n"
      ]
    },
    {
      "cell_type": "markdown",
      "metadata": {
        "id": "Wtb8UWyTNxp_"
      },
      "source": [
        "## 합성곱 연산\n",
        "- 필터(filter) 연산\n",
        "  - 입력 데이터에 필터를 통한 어떠한 연산을 진행\n",
        "  \n",
        "  - **필터에 대응하는 원소끼리 곱하고, 그 합을 구함**\n",
        "\n",
        "  - 연산이 완료된 결과 데이터를 **특징 맵(feature map)**이라 부름\n",
        "\n",
        "- 필터(filter)\n",
        "  - 커널(kernel)이라고도 칭함\n",
        "  \n",
        "  - 흔히 사진 어플에서 사용하는 '이미지 필터'와 비슷한 개념\n",
        "\n",
        "  - 필터의 사이즈는 \"거의 항상 홀수\"\n",
        "    - 짝수이면 패딩이 비대칭이 되어버림\n",
        "  \n",
        "    - 왼쪽, 오른쪽을 다르게 주어야함\n",
        "  \n",
        "    - 중심위치가 존재, 즉 구별된 하나의 픽셀(중심 픽셀)이 존재\n",
        "\n",
        "  - 필터의 학습 파라미터 개수는 입력 데이터의 크기와 상관없이 일정  \n",
        "    따라서, 과적합을 방지할 수 있음\n",
        "\n",
        "  <br>\n",
        "  <img src=\"http://deeplearning.net/software/theano_versions/dev/_images/numerical_no_padding_no_strides.gif\">\n",
        "\n",
        "  <sub>출처: http://deeplearning.net/software/theano_versions/dev/tutorial/conv_arithmetic.html</sub>\n",
        "\n",
        "\n",
        "- 연산 시각화\n",
        "  <img src=\"https://www.researchgate.net/profile/Ihab_S_Mohamed/publication/324165524/figure/fig3/AS:611103423860736@1522709818959/An-example-of-convolution-operation-in-2D-2.png\" width=\"500\">\n",
        "\n",
        "  <sub>출처: https://www.researchgate.net/figure/An-example-of-convolution-operation-in-2D-2_fig3_324165524</sub>\n",
        "\n",
        "\n",
        "- 일반적으로, 합성곱 연산을 한 후의 데이터 사이즈는  \n",
        "  ### $\\quad (n-f+1) \\times (n-f+1)$\n",
        "    $n$: 입력 데이터의 크기  \n",
        "    $f$: 필터(커널)의 크기\n",
        "\n",
        "\n",
        "  <img src=\"https://miro.medium.com/max/1400/1*Fw-ehcNBR9byHtho-Rxbtw.gif\" width=\"400\">\n",
        "\n",
        "  <sub>출처: https://towardsdatascience.com/intuitively-understanding-convolutions-for-deep-learning-1f6f42faee1</sub>\n",
        "  \n",
        "  위 예에서 입력 데이터 크기($n$)는 5, 필터의 크기($k$)는 3이므로  \n",
        "  출력 데이터의 크기는 $(5 - 3 + 1) = 3$\n"
      ]
    },
    {
      "cell_type": "markdown",
      "metadata": {
        "id": "5-ekDsJwN2Y-"
      },
      "source": [
        "## 패딩(padding)과 스트라이드(stride)\n",
        "- 필터(커널) 사이즈과 함께 **입력 이미지와 출력 이미지의 사이즈를 결정**하기 위해 사용\n",
        "\n",
        "- 사용자가 결정할 수 있음\n"
      ]
    },
    {
      "cell_type": "markdown",
      "metadata": {
        "id": "alV1bgcjN4Kc"
      },
      "source": [
        "\n",
        "### 패딩\n",
        "- 입력 데이터의 주변을 특정 값으로 채우는 기법\n",
        "  - 주로 0으로 많이 채움\n",
        "\n",
        "  <img src=\"http://deeplearning.net/software/theano_versions/dev/_images/arbitrary_padding_no_strides.gif\" width=\"300\">\n",
        "\n",
        "- 출력 데이터의 크기\n",
        "  ### $\\quad (n+2p-f+1) \\times (n+2p-f+1)$\n",
        "\n",
        "  위 그림에서, 입력 데이터의 크기($n$)는 5, 필터의 크기($f$)는 4, 패딩값($p$)은 2이므로    \n",
        "  출력 데이터의 크기는 ($5 + 2\\times 2 - 4 + 1) = 6$\n",
        "\n",
        "### 'valid' 와 'same'\n",
        "- 'valid'\n",
        "  - 패딩을 주지 않음\n",
        "  - padding=0 (0으로 채워진 테두리가 아니라 패딩을 주지 않는다는 의미)\n",
        "\n",
        "- 'same'\n",
        "  - 패딩을 주어 입력 이미지의 크기와 연산 후의 이미지 크기를 같게함\n",
        "\n",
        "  - 만약, 필터(커널)의 크기가 $k$ 이면,  \n",
        "    패딩의 크기는 $p = \\frac{k-1}{2}$ (단, <u>stride=1)</u>"
      ]
    },
    {
      "cell_type": "markdown",
      "metadata": {
        "id": "zlZ7zG6ON85J"
      },
      "source": [
        "\n",
        "\n",
        "### 스트라이드\n",
        "- 필터를 적용하는 간격을 의미\n",
        "\n",
        "- 아래는 그림의 간격 2\n",
        "\n",
        "  <img src=\"http://deeplearning.net/software/theano_versions/dev/_images/no_padding_strides.gif\">\n"
      ]
    },
    {
      "cell_type": "markdown",
      "metadata": {
        "id": "LPcsND-0OCNm"
      },
      "source": [
        "## 출력 데이터의 크기\n",
        "\n",
        "## $\\qquad OH = \\frac{H + 2P - FH}{S} + 1 $\n",
        "## $\\qquad OW = \\frac{W + 2P - FW}{S} + 1 $\n",
        "\n",
        "- 입력 크기 : $(H, W)$\n",
        "\n",
        "- 필터 크기 : $(FH, FW)$\n",
        "\n",
        "- 출력 크기 : $(OH, OW)$\n",
        "\n",
        "- 패딩, 스트라이드 : $P, S$\n",
        "\n",
        "- (주의)\n",
        "  - 위 식의 값에서 $\\frac{H + 2P - FH}{S}$ 또는 $\\frac{W + 2P - FW}{S}$가 정수로 나누어 떨어지는 값이어야 함\n",
        "  - 만약, 정수로 나누어 떨어지지 않으면  \n",
        "    패딩, 스트라이드값을 조정하여 정수로 나누어 떨어지게 해야함\n"
      ]
    },
    {
      "cell_type": "markdown",
      "metadata": {
        "id": "1x4UoMbF8jJ9"
      },
      "source": [
        "## 풀링(Pooling)\n",
        "\n",
        "- 필터(커널) 사이즈 내에서 특정 값을 추출하는 과정"
      ]
    },
    {
      "cell_type": "markdown",
      "metadata": {
        "id": "lDiaO3XF8oC_"
      },
      "source": [
        "### 맥스 풀링(Max Pooling)\n",
        "- 가장 많이 사용되는 방법\n",
        "\n",
        "- 출력 데이터의 사이즈 계산은 컨볼루션 연산과 동일\n",
        "## $\\quad OH = \\frac{H + 2P - FH}{S} + 1 $\n",
        "## $\\quad OW = \\frac{W + 2P - FW}{S} + 1 $\n",
        "\n",
        "- 일반적으로 stride=2, kernel_size=2 를 통해  \n",
        "  **특징맵의 크기를 <u>절반으로 줄이는 역할</u>**\n",
        "\n",
        "- 모델이 물체의 주요한 특징을 학습할 수 있도록 해주며,  \n",
        "  컨볼루션 신경망이 이동 불변성 특성을 가지게 해줌\n",
        "  - 예를 들어, 아래의 그림에서 초록색 사각형 안에 있는  \n",
        "    2와 8의 위치를 바꾼다해도 맥스 풀링 연산은 8을 추출\n",
        "\n",
        "- 모델의 파라미터 개수를 줄여주고, 연산 속도를 빠르게 해줌\n",
        "\n",
        "  <br>\n",
        "\n",
        "  <img src=\"https://cs231n.github.io/assets/cnn/maxpool.jpeg\" width=\"600\">\n",
        "\n",
        "  <sub>출처: https://cs231n.github.io/convolutional-networks/</sub>"
      ]
    },
    {
      "cell_type": "markdown",
      "metadata": {
        "id": "CrvtX4LrkhPI"
      },
      "source": [
        "## Conv1D\n",
        "\n",
        "- 텍스트 분류나 시계열 예측 같은 간단한 문제, 오디오 생성, 기계 번역 등의 문제에서 좋은 성능\n",
        "\n",
        "- 타임스텝의 순서에 민감하지 X\n",
        "\n",
        "\n",
        "- 2D Convolution\n",
        "  - 지역적 특징을 인식\n",
        "\n",
        "  <img src=\"https://missinglink.ai/wp-content/uploads/2019/03/2D-convolutional-example_2x-700x584.png\" width=\"500\">\n",
        "\n",
        "- 1D Convolution\n",
        "  - 문맥을 인식\n",
        "\n",
        "  <img src=\"https://missinglink.ai/wp-content/uploads/2019/03/1D-convolutional-example_2x.png\" width=\"500\">\n",
        "\n",
        "  <sub>출처: https://missinglink.ai/guides/keras/keras-conv1d-working-1d-convolutional-neural-networks-keras/</sub>"
      ]
    },
    {
      "cell_type": "markdown",
      "metadata": {
        "id": "aJNAI-aYnDuc"
      },
      "source": [
        "### Conv1D Layer\n",
        "- 입력: `(batch_size, timesteps, channels)`\n",
        "\n",
        "- 출력: `(batch_size, timesteps, filters)`\n",
        "\n",
        "- 필터의 사이즈가 커져도 모델이 급격히 증가하지 않기 때문에 다양한 크기를 사용할 수 있음\n",
        "- 데이터의 품질이 좋으면 굳이 크기를 달리하여 여러 개를 사용하지 않아도 될 수도 있음"
      ]
    },
    {
      "cell_type": "markdown",
      "metadata": {
        "id": "ADJZHPLJqTZa"
      },
      "source": [
        "### MaxPooling1D Layer\n",
        "- 다운 샘플링 효과\n",
        "\n",
        "- 단지 1차원형태로 바뀐 것 뿐"
      ]
    },
    {
      "cell_type": "markdown",
      "metadata": {
        "id": "wirZzwYJrNll"
      },
      "source": [
        "### GlobalMaxPooling Layer\n",
        "- 배치차원을 제외하고 2차원 형태를 1차원 형태로 바꾸어주는 레이어\n",
        "\n",
        "- Flatten layer로 대신 사용가능"
      ]
    },
    {
      "cell_type": "markdown",
      "metadata": {
        "id": "YQY_1IL9nQs2"
      },
      "source": [
        "## IMDB 데이터"
      ]
    },
    {
      "cell_type": "markdown",
      "metadata": {
        "id": "pl4Eu32qnUES"
      },
      "source": [
        "### 데이터 로드 및 전처리"
      ]
    },
    {
      "cell_type": "code",
      "metadata": {
        "id": "WcG-Hiltklbe"
      },
      "source": [
        "from tensorflow.keras.datasets import imdb\n",
        "from tensorflow.keras.preprocessing.sequence import pad_sequences\n",
        "from tensorflow.keras.models import Sequential\n",
        "from tensorflow.keras.optimizers import RMSprop\n",
        "from tensorflow.keras.layers import Dense, Embedding, Conv1D, MaxPooling1D, GlobalMaxPooling1D"
      ],
      "execution_count": 1,
      "outputs": []
    },
    {
      "cell_type": "code",
      "metadata": {
        "id": "GGYaNT8hnec5",
        "colab": {
          "base_uri": "https://localhost:8080/"
        },
        "outputId": "2b4714a2-6b9b-49b5-d422-8a830e0d7482"
      },
      "source": [
        "num_words = 10000\n",
        "max_len = 500\n",
        "batch_size = 32\n",
        "\n",
        "(input_train, y_train), (input_test, y_test) = imdb.load_data(num_words=num_words)\n",
        "\n",
        "print(len(input_train))\n",
        "print(len(input_test))"
      ],
      "execution_count": 2,
      "outputs": [
        {
          "output_type": "stream",
          "name": "stdout",
          "text": [
            "Downloading data from https://storage.googleapis.com/tensorflow/tf-keras-datasets/imdb.npz\n",
            "17464789/17464789 [==============================] - 0s 0us/step\n",
            "25000\n",
            "25000\n"
          ]
        }
      ]
    },
    {
      "cell_type": "code",
      "metadata": {
        "id": "nQBzp3ownpEK",
        "colab": {
          "base_uri": "https://localhost:8080/"
        },
        "outputId": "4cabf0db-f7c5-4503-ff59-4fb49148ebc1"
      },
      "source": [
        "pad_x_train = pad_sequences(input_train, maxlen=max_len)\n",
        "pad_x_test = pad_sequences(input_test, maxlen=max_len)\n",
        "\n",
        "print(pad_x_train.shape)\n",
        "print(pad_x_test.shape)"
      ],
      "execution_count": 3,
      "outputs": [
        {
          "output_type": "stream",
          "name": "stdout",
          "text": [
            "(25000, 500)\n",
            "(25000, 500)\n"
          ]
        }
      ]
    },
    {
      "cell_type": "markdown",
      "metadata": {
        "id": "j3E0hYiHoBO0"
      },
      "source": [
        "### 모델 구성"
      ]
    },
    {
      "cell_type": "code",
      "metadata": {
        "id": "PvKPr7N6nuHr"
      },
      "source": [
        "def build_model():\n",
        "  model = Sequential()\n",
        "\n",
        "  model.add(Embedding(input_dim=num_words, output_dim=32, input_length=max_len))\n",
        "  model.add(Conv1D(32, 7, activation='relu'))\n",
        "  model.add(MaxPooling1D(7))\n",
        "  model.add(Conv1D(32, 5, activation='relu'))\n",
        "  model.add(MaxPooling1D(5))\n",
        "  model.add(GlobalMaxPooling1D()) # flatten\n",
        "  model.add(Dense(1, activation='sigmoid')) # 긍정인지부정인지\n",
        "\n",
        "  model.compile(optimizer=RMSprop(learning_rate=1e-4),\n",
        "                loss='binary_crossentropy',\n",
        "                metrics=['accuracy'])\n",
        "  return model"
      ],
      "execution_count": 4,
      "outputs": []
    },
    {
      "cell_type": "code",
      "metadata": {
        "id": "wwWZ47NHolB6",
        "colab": {
          "base_uri": "https://localhost:8080/"
        },
        "outputId": "2c1bc735-dbdd-4619-b38a-698617a8b2b9"
      },
      "source": [
        "model = build_model()\n",
        "model.summary()"
      ],
      "execution_count": 5,
      "outputs": [
        {
          "output_type": "stream",
          "name": "stdout",
          "text": [
            "Model: \"sequential\"\n",
            "_________________________________________________________________\n",
            " Layer (type)                Output Shape              Param #   \n",
            "=================================================================\n",
            " embedding (Embedding)       (None, 500, 32)           320000    \n",
            "                                                                 \n",
            " conv1d (Conv1D)             (None, 494, 32)           7200      \n",
            "                                                                 \n",
            " max_pooling1d (MaxPooling1  (None, 70, 32)            0         \n",
            " D)                                                              \n",
            "                                                                 \n",
            " conv1d_1 (Conv1D)           (None, 66, 32)            5152      \n",
            "                                                                 \n",
            " max_pooling1d_1 (MaxPoolin  (None, 13, 32)            0         \n",
            " g1D)                                                            \n",
            "                                                                 \n",
            " global_max_pooling1d (Glob  (None, 32)                0         \n",
            " alMaxPooling1D)                                                 \n",
            "                                                                 \n",
            " dense (Dense)               (None, 1)                 33        \n",
            "                                                                 \n",
            "=================================================================\n",
            "Total params: 332385 (1.27 MB)\n",
            "Trainable params: 332385 (1.27 MB)\n",
            "Non-trainable params: 0 (0.00 Byte)\n",
            "_________________________________________________________________\n"
          ]
        }
      ]
    },
    {
      "cell_type": "markdown",
      "metadata": {
        "id": "0qUbPGdmpHpQ"
      },
      "source": [
        "### 모델 학습"
      ]
    },
    {
      "cell_type": "code",
      "metadata": {
        "id": "xcCgjLHvonWB",
        "colab": {
          "base_uri": "https://localhost:8080/"
        },
        "outputId": "383f5dd6-3d11-4bb4-9945-e68e37302817"
      },
      "source": [
        "history = model.fit(pad_x_train, y_train,\n",
        "                    batch_size=128, epochs=30,\n",
        "                    validation_split=0.2)"
      ],
      "execution_count": 6,
      "outputs": [
        {
          "output_type": "stream",
          "name": "stdout",
          "text": [
            "Epoch 1/30\n",
            "157/157 [==============================] - 23s 118ms/step - loss: 0.6931 - accuracy: 0.5016 - val_loss: 0.6929 - val_accuracy: 0.5180\n",
            "Epoch 2/30\n",
            "157/157 [==============================] - 12s 77ms/step - loss: 0.6922 - accuracy: 0.5481 - val_loss: 0.6924 - val_accuracy: 0.5444\n",
            "Epoch 3/30\n",
            "157/157 [==============================] - 10s 61ms/step - loss: 0.6912 - accuracy: 0.6018 - val_loss: 0.6918 - val_accuracy: 0.5780\n",
            "Epoch 4/30\n",
            "157/157 [==============================] - 7s 45ms/step - loss: 0.6898 - accuracy: 0.6243 - val_loss: 0.6904 - val_accuracy: 0.6158\n",
            "Epoch 5/30\n",
            "157/157 [==============================] - 6s 41ms/step - loss: 0.6873 - accuracy: 0.6863 - val_loss: 0.6871 - val_accuracy: 0.6508\n",
            "Epoch 6/30\n",
            "157/157 [==============================] - 5s 34ms/step - loss: 0.6823 - accuracy: 0.7052 - val_loss: 0.6801 - val_accuracy: 0.6898\n",
            "Epoch 7/30\n",
            "157/157 [==============================] - 5s 30ms/step - loss: 0.6704 - accuracy: 0.7276 - val_loss: 0.6616 - val_accuracy: 0.7186\n",
            "Epoch 8/30\n",
            "157/157 [==============================] - 4s 23ms/step - loss: 0.6429 - accuracy: 0.7498 - val_loss: 0.6226 - val_accuracy: 0.7534\n",
            "Epoch 9/30\n",
            "157/157 [==============================] - 3s 22ms/step - loss: 0.5923 - accuracy: 0.7709 - val_loss: 0.5630 - val_accuracy: 0.7752\n",
            "Epoch 10/30\n",
            "157/157 [==============================] - 4s 23ms/step - loss: 0.5264 - accuracy: 0.7930 - val_loss: 0.4983 - val_accuracy: 0.7942\n",
            "Epoch 11/30\n",
            "157/157 [==============================] - 2s 14ms/step - loss: 0.4604 - accuracy: 0.8147 - val_loss: 0.4454 - val_accuracy: 0.8082\n",
            "Epoch 12/30\n",
            "157/157 [==============================] - 2s 15ms/step - loss: 0.4072 - accuracy: 0.8344 - val_loss: 0.4094 - val_accuracy: 0.8216\n",
            "Epoch 13/30\n",
            "157/157 [==============================] - 2s 13ms/step - loss: 0.3688 - accuracy: 0.8499 - val_loss: 0.3842 - val_accuracy: 0.8338\n",
            "Epoch 14/30\n",
            "157/157 [==============================] - 2s 11ms/step - loss: 0.3411 - accuracy: 0.8607 - val_loss: 0.3687 - val_accuracy: 0.8420\n",
            "Epoch 15/30\n",
            "157/157 [==============================] - 2s 15ms/step - loss: 0.3193 - accuracy: 0.8690 - val_loss: 0.3586 - val_accuracy: 0.8494\n",
            "Epoch 16/30\n",
            "157/157 [==============================] - 2s 16ms/step - loss: 0.3016 - accuracy: 0.8766 - val_loss: 0.3527 - val_accuracy: 0.8482\n",
            "Epoch 17/30\n",
            "157/157 [==============================] - 2s 14ms/step - loss: 0.2861 - accuracy: 0.8844 - val_loss: 0.3447 - val_accuracy: 0.8530\n",
            "Epoch 18/30\n",
            "157/157 [==============================] - 1s 9ms/step - loss: 0.2721 - accuracy: 0.8916 - val_loss: 0.3402 - val_accuracy: 0.8574\n",
            "Epoch 19/30\n",
            "157/157 [==============================] - 2s 14ms/step - loss: 0.2596 - accuracy: 0.8982 - val_loss: 0.3398 - val_accuracy: 0.8554\n",
            "Epoch 20/30\n",
            "157/157 [==============================] - 2s 10ms/step - loss: 0.2478 - accuracy: 0.9038 - val_loss: 0.3350 - val_accuracy: 0.8586\n",
            "Epoch 21/30\n",
            "157/157 [==============================] - 2s 14ms/step - loss: 0.2371 - accuracy: 0.9090 - val_loss: 0.3346 - val_accuracy: 0.8606\n",
            "Epoch 22/30\n",
            "157/157 [==============================] - 2s 14ms/step - loss: 0.2267 - accuracy: 0.9141 - val_loss: 0.3337 - val_accuracy: 0.8622\n",
            "Epoch 23/30\n",
            "157/157 [==============================] - 2s 12ms/step - loss: 0.2173 - accuracy: 0.9183 - val_loss: 0.3338 - val_accuracy: 0.8630\n",
            "Epoch 24/30\n",
            "157/157 [==============================] - 1s 9ms/step - loss: 0.2086 - accuracy: 0.9227 - val_loss: 0.3343 - val_accuracy: 0.8634\n",
            "Epoch 25/30\n",
            "157/157 [==============================] - 2s 10ms/step - loss: 0.2001 - accuracy: 0.9269 - val_loss: 0.3352 - val_accuracy: 0.8630\n",
            "Epoch 26/30\n",
            "157/157 [==============================] - 1s 9ms/step - loss: 0.1918 - accuracy: 0.9308 - val_loss: 0.3440 - val_accuracy: 0.8610\n",
            "Epoch 27/30\n",
            "157/157 [==============================] - 1s 8ms/step - loss: 0.1846 - accuracy: 0.9337 - val_loss: 0.3394 - val_accuracy: 0.8640\n",
            "Epoch 28/30\n",
            "157/157 [==============================] - 1s 9ms/step - loss: 0.1772 - accuracy: 0.9366 - val_loss: 0.3422 - val_accuracy: 0.8660\n",
            "Epoch 29/30\n",
            "157/157 [==============================] - 2s 13ms/step - loss: 0.1704 - accuracy: 0.9402 - val_loss: 0.3442 - val_accuracy: 0.8658\n",
            "Epoch 30/30\n",
            "157/157 [==============================] - 1s 9ms/step - loss: 0.1638 - accuracy: 0.9426 - val_loss: 0.3508 - val_accuracy: 0.8628\n"
          ]
        }
      ]
    },
    {
      "cell_type": "markdown",
      "metadata": {
        "id": "n2yEkawIph4C"
      },
      "source": [
        "### 시각화"
      ]
    },
    {
      "cell_type": "code",
      "metadata": {
        "id": "BfKC0UOkpPmP",
        "colab": {
          "base_uri": "https://localhost:8080/",
          "height": 907
        },
        "outputId": "047b0c0c-71e8-40d6-ee2b-5c8a59ed49ef"
      },
      "source": [
        "import matplotlib.pyplot as plt\n",
        "plt.style.use('seaborn-white')\n",
        "\n",
        "loss = history.history['loss']\n",
        "val_loss = history.history['val_loss']\n",
        "acc = history.history['accuracy']\n",
        "val_acc = history.history['val_accuracy']\n",
        "\n",
        "epochs = range(1, len(loss)+1)\n",
        "\n",
        "plt.plot(epochs, loss, 'b--', label='training loss')\n",
        "plt.plot(epochs, val_loss, 'r:', label='validaiton loss')\n",
        "plt.grid()\n",
        "plt.legend()\n",
        "\n",
        "plt.figure()\n",
        "plt.plot(epochs, acc, 'b--', label='training accuracy')\n",
        "plt.plot(epochs, val_acc, 'r:', label='validaiton accuracy')\n",
        "plt.grid()\n",
        "plt.legend()"
      ],
      "execution_count": 8,
      "outputs": [
        {
          "output_type": "stream",
          "name": "stderr",
          "text": [
            "<ipython-input-8-30e44a8147b8>:2: MatplotlibDeprecationWarning: The seaborn styles shipped by Matplotlib are deprecated since 3.6, as they no longer correspond to the styles shipped by seaborn. However, they will remain available as 'seaborn-v0_8-<style>'. Alternatively, directly use the seaborn API instead.\n",
            "  plt.style.use('seaborn-white')\n"
          ]
        },
        {
          "output_type": "execute_result",
          "data": {
            "text/plain": [
              "<matplotlib.legend.Legend at 0x7d0fde530a60>"
            ]
          },
          "metadata": {},
          "execution_count": 8
        },
        {
          "output_type": "display_data",
          "data": {
            "text/plain": [
              "<Figure size 640x480 with 1 Axes>"
            ],
            "image/png": "[encoded data removed]"
          },
          "metadata": {}
        },
        {
          "output_type": "display_data",
          "data": {
            "text/plain": [
              "<Figure size 640x480 with 1 Axes>"
            ],
            "image/png": "[encoded data removed]"
          },
          "metadata": {}
        }
      ]
    },
    {
      "cell_type": "code",
      "source": [
        "model.evaluate(pad_x_test, y_test)"
      ],
      "metadata": {
        "colab": {
          "base_uri": "https://localhost:8080/"
        },
        "id": "yxMySS3LYoLZ",
        "outputId": "24babd34-fa0f-48ae-da98-eb24eaaaa3cf"
      },
      "execution_count": 9,
      "outputs": [
        {
          "output_type": "stream",
          "name": "stdout",
          "text": [
            "782/782 [==============================] - 3s 4ms/step - loss: 0.3653 - accuracy: 0.8510\n"
          ]
        },
        {
          "output_type": "execute_result",
          "data": {
            "text/plain": [
              "[0.365298330783844, 0.8510400056838989]"
            ]
          },
          "metadata": {},
          "execution_count": 9
        }
      ]
    },
    {
      "cell_type": "markdown",
      "metadata": {
        "id": "Oz_Iu_VHV7Z5"
      },
      "source": [
        "## Reuters 데이터"
      ]
    },
    {
      "cell_type": "markdown",
      "metadata": {
        "id": "4_Q6p0nhV7Z6"
      },
      "source": [
        "### 데이터 로드 및 전처리"
      ]
    },
    {
      "cell_type": "code",
      "metadata": {
        "id": "waEmkCowV7Z7"
      },
      "source": [
        "from tensorflow.keras.datasets import reuters"
      ],
      "execution_count": 10,
      "outputs": []
    },
    {
      "cell_type": "code",
      "metadata": {
        "id": "dggcmeJ4V7Z_",
        "colab": {
          "base_uri": "https://localhost:8080/"
        },
        "outputId": "94c36ce1-175c-4e5c-dd68-ba99cf7e0f70"
      },
      "source": [
        "num_words = 10000\n",
        "max_len = 500\n",
        "\n",
        "(input_train, y_train), (input_test, y_test) = reuters.load_data(num_words=num_words)\n",
        "\n",
        "print(len(input_train))\n",
        "print(len(input_test))"
      ],
      "execution_count": 19,
      "outputs": [
        {
          "output_type": "stream",
          "name": "stdout",
          "text": [
            "8982\n",
            "2246\n"
          ]
        }
      ]
    },
    {
      "cell_type": "code",
      "metadata": {
        "id": "EBOJIgbgV7aB",
        "colab": {
          "base_uri": "https://localhost:8080/"
        },
        "outputId": "5ebf7980-8142-4e90-a59b-0154049dc910"
      },
      "source": [
        "pad_x_train = pad_sequences(input_train, maxlen=max_len)\n",
        "pad_x_test = pad_sequences(input_test, maxlen=max_len)\n",
        "\n",
        "print(pad_x_train.shape)\n",
        "print(pad_x_test.shape)"
      ],
      "execution_count": 20,
      "outputs": [
        {
          "output_type": "stream",
          "name": "stdout",
          "text": [
            "(8982, 500)\n",
            "(2246, 500)\n"
          ]
        }
      ]
    },
    {
      "cell_type": "markdown",
      "metadata": {
        "id": "xehgNec0V7aE"
      },
      "source": [
        "### 모델 구성"
      ]
    },
    {
      "cell_type": "code",
      "metadata": {
        "id": "RTV2qF8_V7aE"
      },
      "source": [
        "def build_model():\n",
        "  model = Sequential()\n",
        "\n",
        "  model.add(Embedding(input_dim=num_words, output_dim=64, input_length=max_len))\n",
        "  model.add(Conv1D(64, 7, activation='relu'))\n",
        "  model.add(MaxPooling1D(7))\n",
        "  model.add(Conv1D(64, 5, activation='relu'))\n",
        "  model.add(MaxPooling1D(5))\n",
        "  model.add(GlobalMaxPooling1D()) # flatten\n",
        "  model.add(Dense(46, activation='softmax')) # 긍정인지부정인지\n",
        "\n",
        "  model.compile(optimizer='adam',\n",
        "                loss='sparse_categorical_crossentropy',\n",
        "                metrics=['accuracy'])\n",
        "  return model"
      ],
      "execution_count": 21,
      "outputs": []
    },
    {
      "cell_type": "code",
      "metadata": {
        "id": "48n2W3xpV7aG",
        "colab": {
          "base_uri": "https://localhost:8080/"
        },
        "outputId": "b87bbdc0-542b-420d-de4b-d5c865b13e21"
      },
      "source": [
        "model = build_model()\n",
        "model.summary()"
      ],
      "execution_count": 22,
      "outputs": [
        {
          "output_type": "stream",
          "name": "stdout",
          "text": [
            "Model: \"sequential_2\"\n",
            "_________________________________________________________________\n",
            " Layer (type)                Output Shape              Param #   \n",
            "=================================================================\n",
            " embedding_2 (Embedding)     (None, 500, 64)           640000    \n",
            "                                                                 \n",
            " conv1d_4 (Conv1D)           (None, 494, 64)           28736     \n",
            "                                                                 \n",
            " max_pooling1d_4 (MaxPoolin  (None, 70, 64)            0         \n",
            " g1D)                                                            \n",
            "                                                                 \n",
            " conv1d_5 (Conv1D)           (None, 66, 64)            20544     \n",
            "                                                                 \n",
            " max_pooling1d_5 (MaxPoolin  (None, 13, 64)            0         \n",
            " g1D)                                                            \n",
            "                                                                 \n",
            " global_max_pooling1d_2 (Gl  (None, 64)                0         \n",
            " obalMaxPooling1D)                                               \n",
            "                                                                 \n",
            " dense_2 (Dense)             (None, 46)                2990      \n",
            "                                                                 \n",
            "=================================================================\n",
            "Total params: 692270 (2.64 MB)\n",
            "Trainable params: 692270 (2.64 MB)\n",
            "Non-trainable params: 0 (0.00 Byte)\n",
            "_________________________________________________________________\n"
          ]
        }
      ]
    },
    {
      "cell_type": "markdown",
      "metadata": {
        "id": "WeRmu5WMV7aI"
      },
      "source": [
        "### 모델 학습"
      ]
    },
    {
      "cell_type": "code",
      "metadata": {
        "id": "BGVdYyIrV7aJ",
        "colab": {
          "base_uri": "https://localhost:8080/"
        },
        "outputId": "34c25b71-8893-48a2-fd26-620ae9553ebb"
      },
      "source": [
        "history = model.fit(pad_x_train, y_train,\n",
        "                    batch_size=128, epochs=30,\n",
        "                    validation_split=0.2)"
      ],
      "execution_count": 23,
      "outputs": [
        {
          "output_type": "stream",
          "name": "stdout",
          "text": [
            "Epoch 1/30\n",
            "57/57 [==============================] - 13s 200ms/step - loss: 2.6842 - accuracy: 0.3261 - val_loss: 2.0307 - val_accuracy: 0.4992\n",
            "Epoch 2/30\n",
            "57/57 [==============================] - 9s 162ms/step - loss: 1.8190 - accuracy: 0.5272 - val_loss: 1.6727 - val_accuracy: 0.5654\n",
            "Epoch 3/30\n",
            "57/57 [==============================] - 8s 138ms/step - loss: 1.5839 - accuracy: 0.5962 - val_loss: 1.5539 - val_accuracy: 0.5982\n",
            "Epoch 4/30\n",
            "57/57 [==============================] - 8s 132ms/step - loss: 1.3865 - accuracy: 0.6626 - val_loss: 1.3976 - val_accuracy: 0.6873\n",
            "Epoch 5/30\n",
            "57/57 [==============================] - 8s 134ms/step - loss: 1.1801 - accuracy: 0.7208 - val_loss: 1.3196 - val_accuracy: 0.6995\n",
            "Epoch 6/30\n",
            "57/57 [==============================] - 6s 112ms/step - loss: 1.0091 - accuracy: 0.7545 - val_loss: 1.2957 - val_accuracy: 0.7134\n",
            "Epoch 7/30\n",
            "57/57 [==============================] - 6s 106ms/step - loss: 0.8444 - accuracy: 0.7983 - val_loss: 1.2883 - val_accuracy: 0.7095\n",
            "Epoch 8/30\n",
            "57/57 [==============================] - 5s 94ms/step - loss: 0.6798 - accuracy: 0.8370 - val_loss: 1.3150 - val_accuracy: 0.7195\n",
            "Epoch 9/30\n",
            "57/57 [==============================] - 5s 85ms/step - loss: 0.5449 - accuracy: 0.8697 - val_loss: 1.3639 - val_accuracy: 0.7190\n",
            "Epoch 10/30\n",
            "57/57 [==============================] - 6s 101ms/step - loss: 0.4376 - accuracy: 0.8949 - val_loss: 1.3998 - val_accuracy: 0.7279\n",
            "Epoch 11/30\n",
            "57/57 [==============================] - 3s 59ms/step - loss: 0.3533 - accuracy: 0.9193 - val_loss: 1.4536 - val_accuracy: 0.7195\n",
            "Epoch 12/30\n",
            "57/57 [==============================] - 3s 56ms/step - loss: 0.2873 - accuracy: 0.9353 - val_loss: 1.5118 - val_accuracy: 0.7245\n",
            "Epoch 13/30\n",
            "57/57 [==============================] - 6s 102ms/step - loss: 0.2441 - accuracy: 0.9471 - val_loss: 1.5707 - val_accuracy: 0.7262\n",
            "Epoch 14/30\n",
            "57/57 [==============================] - 4s 71ms/step - loss: 0.2186 - accuracy: 0.9538 - val_loss: 1.5879 - val_accuracy: 0.7307\n",
            "Epoch 15/30\n",
            "57/57 [==============================] - 3s 56ms/step - loss: 0.1879 - accuracy: 0.9564 - val_loss: 1.6451 - val_accuracy: 0.7273\n",
            "Epoch 16/30\n",
            "57/57 [==============================] - 3s 57ms/step - loss: 0.1702 - accuracy: 0.9594 - val_loss: 1.6743 - val_accuracy: 0.7318\n",
            "Epoch 17/30\n",
            "57/57 [==============================] - 3s 48ms/step - loss: 0.1682 - accuracy: 0.9601 - val_loss: 1.6600 - val_accuracy: 0.7379\n",
            "Epoch 18/30\n",
            "57/57 [==============================] - 4s 69ms/step - loss: 0.1374 - accuracy: 0.9619 - val_loss: 1.6977 - val_accuracy: 0.7301\n",
            "Epoch 19/30\n",
            "57/57 [==============================] - 4s 74ms/step - loss: 0.1300 - accuracy: 0.9630 - val_loss: 1.6946 - val_accuracy: 0.7318\n",
            "Epoch 20/30\n",
            "57/57 [==============================] - 2s 35ms/step - loss: 0.1352 - accuracy: 0.9624 - val_loss: 1.7195 - val_accuracy: 0.7301\n",
            "Epoch 21/30\n",
            "57/57 [==============================] - 3s 52ms/step - loss: 0.1261 - accuracy: 0.9621 - val_loss: 1.7004 - val_accuracy: 0.7334\n",
            "Epoch 22/30\n",
            "57/57 [==============================] - 2s 29ms/step - loss: 0.1160 - accuracy: 0.9623 - val_loss: 1.7421 - val_accuracy: 0.7307\n",
            "Epoch 23/30\n",
            "57/57 [==============================] - 3s 47ms/step - loss: 0.1190 - accuracy: 0.9620 - val_loss: 1.7426 - val_accuracy: 0.7206\n",
            "Epoch 24/30\n",
            "57/57 [==============================] - 2s 39ms/step - loss: 0.1152 - accuracy: 0.9617 - val_loss: 1.7301 - val_accuracy: 0.7312\n",
            "Epoch 25/30\n",
            "57/57 [==============================] - 2s 34ms/step - loss: 0.1146 - accuracy: 0.9644 - val_loss: 1.7022 - val_accuracy: 0.7396\n",
            "Epoch 26/30\n",
            "57/57 [==============================] - 2s 42ms/step - loss: 0.1083 - accuracy: 0.9656 - val_loss: 1.7163 - val_accuracy: 0.7346\n",
            "Epoch 27/30\n",
            "57/57 [==============================] - 2s 38ms/step - loss: 0.1062 - accuracy: 0.9660 - val_loss: 1.7721 - val_accuracy: 0.7284\n",
            "Epoch 28/30\n",
            "57/57 [==============================] - 2s 36ms/step - loss: 0.1054 - accuracy: 0.9653 - val_loss: 1.7510 - val_accuracy: 0.7251\n",
            "Epoch 29/30\n",
            "57/57 [==============================] - 3s 52ms/step - loss: 0.1066 - accuracy: 0.9637 - val_loss: 1.7409 - val_accuracy: 0.7373\n",
            "Epoch 30/30\n",
            "57/57 [==============================] - 1s 22ms/step - loss: 0.1129 - accuracy: 0.9653 - val_loss: 1.7553 - val_accuracy: 0.7323\n"
          ]
        }
      ]
    },
    {
      "cell_type": "markdown",
      "metadata": {
        "id": "ao8NNj2SV7aL"
      },
      "source": [
        "### 시각화"
      ]
    },
    {
      "cell_type": "code",
      "metadata": {
        "id": "D_CisVtyV7aL",
        "colab": {
          "base_uri": "https://localhost:8080/",
          "height": 851
        },
        "outputId": "a7e8bfff-ec6d-4694-9778-6be896e7beb9"
      },
      "source": [
        "loss = history.history['loss']\n",
        "val_loss = history.history['val_loss']\n",
        "acc = history.history['accuracy']\n",
        "val_acc = history.history['val_accuracy']\n",
        "\n",
        "epochs = range(1, len(loss)+1)\n",
        "\n",
        "plt.plot(epochs, loss, 'b--', label='training loss')\n",
        "plt.plot(epochs, val_loss, 'r:', label='validaiton loss')\n",
        "plt.grid()\n",
        "plt.legend()\n",
        "\n",
        "plt.figure()\n",
        "plt.plot(epochs, acc, 'b--', label='training accuracy')\n",
        "plt.plot(epochs, val_acc, 'r:', label='validaiton accuracy')\n",
        "plt.grid()\n",
        "plt.legend()"
      ],
      "execution_count": 24,
      "outputs": [
        {
          "output_type": "execute_result",
          "data": {
            "text/plain": [
              "<matplotlib.legend.Legend at 0x7d0fe05367d0>"
            ]
          },
          "metadata": {},
          "execution_count": 24
        },
        {
          "output_type": "display_data",
          "data": {
            "text/plain": [
              "<Figure size 640x480 with 1 Axes>"
            ],
            "image/png": "[encoded data removed]"
          },
          "metadata": {}
        },
        {
          "output_type": "display_data",
          "data": {
            "text/plain": [
              "<Figure size 640x480 with 1 Axes>"
            ],
            "image/png": "[encoded data removed]"
          },
          "metadata": {}
        }
      ]
    },
    {
      "cell_type": "code",
      "metadata": {
        "id": "NCsNsoiUV7aP",
        "colab": {
          "base_uri": "https://localhost:8080/"
        },
        "outputId": "c2cad4e1-eac9-4761-c97e-ae95484034a3"
      },
      "source": [
        "model.evaluate(pad_x_test, y_test)"
      ],
      "execution_count": 25,
      "outputs": [
        {
          "output_type": "stream",
          "name": "stdout",
          "text": [
            "71/71 [==============================] - 0s 4ms/step - loss: 1.7552 - accuracy: 0.7471\n"
          ]
        },
        {
          "output_type": "execute_result",
          "data": {
            "text/plain": [
              "[1.7552200555801392, 0.7471059560775757]"
            ]
          },
          "metadata": {},
          "execution_count": 25
        }
      ]
    }
  ]
}