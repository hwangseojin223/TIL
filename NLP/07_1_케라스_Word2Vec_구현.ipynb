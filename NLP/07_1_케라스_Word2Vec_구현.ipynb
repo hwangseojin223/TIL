{
  "nbformat": 4,
  "nbformat_minor": 0,
  "metadata": {
    "colab": {
      "provenance": []
    },
    "kernelspec": {
      "name": "python3",
      "display_name": "Python 3"
    },
    "accelerator": "GPU"
  },
  "cells": [
    {
      "cell_type": "markdown",
      "metadata": {
        "id": "Mk3q9W0DjH5G"
      },
      "source": [
        "# 케라스 Word2Vec 구현\n",
        "\n",
        "* 참고: https://wikidocs.net/69141"
      ]
    },
    {
      "cell_type": "markdown",
      "metadata": {
        "id": "RxZOa3m8qFw3"
      },
      "source": [
        "### 전처리"
      ]
    },
    {
      "cell_type": "code",
      "metadata": {
        "id": "ohSE_JnMSRDR",
        "colab": {
          "base_uri": "https://localhost:8080/",
          "height": 161
        },
        "outputId": "4ad024e6-8967-4a39-980c-6a96842cb7f6"
      },
      "source": [
        "from sklearn.datasets import fetch_20newsgroups\n",
        "\n",
        "dataset = fetch_20newsgroups(shuffle=True, random_state=1,\n",
        "                             remove=('headers','footers','quotes'))\n",
        "documents = dataset.data\n",
        "\n",
        "print(len(documents))\n",
        "documents[1]"
      ],
      "execution_count": 11,
      "outputs": [
        {
          "output_type": "stream",
          "name": "stdout",
          "text": [
            "11314\n"
          ]
        },
        {
          "output_type": "execute_result",
          "data": {
            "text/plain": [
              "\"\\n\\n\\n\\n\\n\\n\\nYeah, do you expect people to read the FAQ, etc. and actually accept hard\\natheism?  No, you need a little leap of faith, Jimmy.  Your logic runs out\\nof steam!\\n\\n\\n\\n\\n\\n\\n\\nJim,\\n\\nSorry I can't pity you, Jim.  And I'm sorry that you have these feelings of\\ndenial about the faith you need to get by.  Oh well, just pretend that it will\\nall end happily ever after anyway.  Maybe if you start a new newsgroup,\\nalt.atheist.hard, you won't be bummin' so much?\\n\\n\\n\\n\\n\\n\\nBye-Bye, Big Jim.  Don't forget your Flintstone's Chewables!  :) \\n--\\nBake Timmons, III\""
            ],
            "application/vnd.google.colaboratory.intrinsic+json": {
              "type": "string"
            }
          },
          "metadata": {},
          "execution_count": 11
        }
      ]
    },
    {
      "cell_type": "code",
      "metadata": {
        "id": "E56d3KXroenQ",
        "colab": {
          "base_uri": "https://localhost:8080/"
        },
        "outputId": "b0d1356e-3733-455e-da7e-4340e6e109da"
      },
      "source": [
        "import re\n",
        "import nltk\n",
        "\n",
        "from nltk.corpus import stopwords\n",
        "from nltk.tokenize import word_tokenize\n",
        "\n",
        "nltk.download('stopwords')\n",
        "nltk.download('punkt')\n",
        "\n",
        "def clean_text(d):\n",
        "  pattern = r'[^a-zA-Z\\s]'\n",
        "  text = re.sub(pattern, '', d)\n",
        "  return text\n",
        "\n",
        "def clean_stopword(d):\n",
        "  stop_words = stopwords.words('english')\n",
        "  return ' '.join([w.lower() for w in d.split() if w.lower() not in stop_words and len(w) > 3])\n",
        "\n",
        "def tokenize(d):\n",
        "  return word_tokenize(d)\n",
        "\n"
      ],
      "execution_count": 12,
      "outputs": [
        {
          "output_type": "stream",
          "name": "stderr",
          "text": [
            "[nltk_data] Downloading package stopwords to /root/nltk_data...\n",
            "[nltk_data]   Package stopwords is already up-to-date!\n",
            "[nltk_data] Downloading package punkt to /root/nltk_data...\n",
            "[nltk_data]   Package punkt is already up-to-date!\n"
          ]
        }
      ]
    },
    {
      "cell_type": "code",
      "metadata": {
        "id": "QCo9S9RlrfQg",
        "colab": {
          "base_uri": "https://localhost:8080/"
        },
        "outputId": "ddfa6f83-f943-4ef4-e01c-713c6c0a2987"
      },
      "source": [
        "import pandas as pd\n",
        "\n",
        "news_df = pd.DataFrame({'article': documents})\n",
        "len(news_df)"
      ],
      "execution_count": 13,
      "outputs": [
        {
          "output_type": "execute_result",
          "data": {
            "text/plain": [
              "11314"
            ]
          },
          "metadata": {},
          "execution_count": 13
        }
      ]
    },
    {
      "cell_type": "code",
      "metadata": {
        "id": "9xzZu6Iprj5B",
        "colab": {
          "base_uri": "https://localhost:8080/"
        },
        "outputId": "ed643451-d06a-43bd-d398-6153c0bf6ff2"
      },
      "source": [
        "news_df.replace('', float('NaN'), inplace=True)\n",
        "news_df.dropna(inplace=True)\n",
        "len(news_df)"
      ],
      "execution_count": 14,
      "outputs": [
        {
          "output_type": "execute_result",
          "data": {
            "text/plain": [
              "11096"
            ]
          },
          "metadata": {},
          "execution_count": 14
        }
      ]
    },
    {
      "cell_type": "code",
      "metadata": {
        "id": "Oi3PJ7dMsF8K",
        "colab": {
          "base_uri": "https://localhost:8080/"
        },
        "outputId": "c5652f24-8db0-40c7-fe3b-38f82801d255"
      },
      "source": [
        "news_df['article'] = news_df['article'].apply(clean_text)\n",
        "news_df['article']"
      ],
      "execution_count": 15,
      "outputs": [
        {
          "output_type": "execute_result",
          "data": {
            "text/plain": [
              "0        Well im not sure about the story nad it did se...\n",
              "1        \\n\\n\\n\\n\\n\\n\\nYeah do you expect people to rea...\n",
              "2        Although I realize that principle is not one o...\n",
              "3        Notwithstanding all the legitimate fuss about ...\n",
              "4        Well I will have to change the scoring on my p...\n",
              "                               ...                        \n",
              "11309    Danny Rubenstein an Israeli journalist will be...\n",
              "11310                                                   \\n\n",
              "11311    \\nI agree  Home runs off Clemens are always me...\n",
              "11312    I used HP DeskJet with Orange Micros Grappler ...\n",
              "11313                                          \\nNo arg...\n",
              "Name: article, Length: 11096, dtype: object"
            ]
          },
          "metadata": {},
          "execution_count": 15
        }
      ]
    },
    {
      "cell_type": "code",
      "metadata": {
        "id": "ViSra6MYuM9x",
        "colab": {
          "base_uri": "https://localhost:8080/"
        },
        "outputId": "9d5f0255-b7d2-49a2-d3bc-71649376d6f9"
      },
      "source": [
        "news_df['article'] = news_df['article'].apply(clean_stopword)\n",
        "news_df['article']"
      ],
      "execution_count": 16,
      "outputs": [
        {
          "output_type": "execute_result",
          "data": {
            "text/plain": [
              "0        well sure story seem biased disagree statement...\n",
              "1        yeah expect people read actually accept hard a...\n",
              "2        although realize principle strongest points wo...\n",
              "3        notwithstanding legitimate fuss proposal much ...\n",
              "4        well change scoring playoff pool unfortunately...\n",
              "                               ...                        \n",
              "11309    danny rubenstein israeli journalist speaking t...\n",
              "11310                                                     \n",
              "11311    agree home runs clemens always memorable kinda...\n",
              "11312    used deskjet orange micros grappler system upd...\n",
              "11313    argument murphy scared hell came last year han...\n",
              "Name: article, Length: 11096, dtype: object"
            ]
          },
          "metadata": {},
          "execution_count": 16
        }
      ]
    },
    {
      "cell_type": "code",
      "source": [
        "tokenized_news = news_df['article'].apply(tokenize)\n",
        "tokenized_news = tokenized_news.to_list()"
      ],
      "metadata": {
        "id": "GAiNPyYxAg3Q"
      },
      "execution_count": 17,
      "outputs": []
    },
    {
      "cell_type": "code",
      "metadata": {
        "id": "Z3JgTpVfSRD_",
        "colab": {
          "base_uri": "https://localhost:8080/"
        },
        "outputId": "12e0a182-10a8-4453-d41a-fbc107b69e6d"
      },
      "source": [
        "import numpy as np\n",
        "\n",
        "drop_news = [index for index, sentence in enumerate(tokenized_news) if len(sentence) <= 1]\n",
        "# news_texts = np.delete(tokenized_news, drop_news, axis=0)\n",
        "news_texts = [sentence for index, sentence in enumerate(tokenized_news) if index not in drop_news]\n",
        "print(len(news_texts))"
      ],
      "execution_count": 20,
      "outputs": [
        {
          "output_type": "stream",
          "name": "stdout",
          "text": [
            "10939\n"
          ]
        }
      ]
    },
    {
      "cell_type": "code",
      "metadata": {
        "id": "uMCYgUIpSREH"
      },
      "source": [
        "from tensorflow.keras.preprocessing.text import Tokenizer\n",
        "\n",
        "news_2000 = news_texts[:2000]\n",
        "\n",
        "tokenizer = Tokenizer()\n",
        "tokenizer.fit_on_texts(news_2000)\n",
        "\n",
        "idx2word = {value:key for key, value in tokenizer.word_index.items()}\n",
        "sequences = tokenizer.texts_to_sequences(news_2000)"
      ],
      "execution_count": 21,
      "outputs": []
    },
    {
      "cell_type": "code",
      "metadata": {
        "id": "YI45-8AoZxR_",
        "colab": {
          "base_uri": "https://localhost:8080/"
        },
        "outputId": "fa4010fd-855e-4a5b-9972-ce26d39a6b82"
      },
      "source": [
        "vocab_size = len(tokenizer.word_index) + 1\n",
        "print(vocab_size)"
      ],
      "execution_count": 22,
      "outputs": [
        {
          "output_type": "stream",
          "name": "stdout",
          "text": [
            "29706\n"
          ]
        }
      ]
    },
    {
      "cell_type": "code",
      "metadata": {
        "id": "pSt1Tq7TZzmn",
        "colab": {
          "base_uri": "https://localhost:8080/"
        },
        "outputId": "e2c3f6af-959a-4ac1-dfe7-40b28ecfaf69"
      },
      "source": [
        "print(sequences[1])"
      ],
      "execution_count": 23,
      "outputs": [
        {
          "output_type": "stream",
          "name": "stdout",
          "text": [
            "[1232, 443, 2, 56, 113, 405, 57, 1342, 20, 65, 3454, 384, 6822, 1142, 360, 2217, 444, 55, 12419, 444, 1862, 3804, 384, 20, 9, 4279, 8694, 171, 291, 130, 148, 648, 12420, 304, 12421, 14, 12422, 4, 770, 12423, 12424, 4870, 8695]\n"
          ]
        }
      ]
    },
    {
      "cell_type": "markdown",
      "metadata": {
        "id": "ydQWu3ZnqUc4"
      },
      "source": [
        "### Skipgram"
      ]
    },
    {
      "cell_type": "markdown",
      "metadata": {
        "id": "pOCiR_WrqMXk"
      },
      "source": [
        "#### Skipgram 전처리"
      ]
    },
    {
      "cell_type": "markdown",
      "metadata": {
        "id": "ua1h2LF_8DPH"
      },
      "source": [
        "* 네거티브 샘플링(Negative Sampling)\n",
        "\n",
        "  + Word2Vec은 출력층이 내놓는 값에 소프트맥스 함수를 적용해 확률값으로 변환한 후 이를 정답과 비교해 역전파(backpropagation)\n",
        "  + 소프트맥스를 적용하려면 분모에 해당하는 값, 즉 중심단어와 나머지 모든 단어의 내적을 한 뒤, 이를 다시 exp 계산을 하는데 전체 단어가 많을 경우 엄청난 계산량 발생\n",
        "  + 네거티브 샘플링은 소프트맥스 확률을 구할 때 전체 단어를 대상으로 구하지 않고, 일부 단어만 뽑아서 계산을 하는 방식\n",
        "  + 네거티브 샘플링 동작은 사용자가 지정한 윈도우 사이즈 내에 등장하지 않는 단어(negative sample)를 5~20개 정도 뽑고, 이를 정답단어와 합쳐 전체 단어처럼 소프트맥스 확률을 계산하여 파라미터 업데이트"
      ]
    },
    {
      "cell_type": "code",
      "metadata": {
        "id": "QVkAK1ZlXi9Q"
      },
      "source": [
        "from tensorflow.keras.preprocessing.sequence import skipgrams\n",
        "\n",
        "skip_grams = [skipgrams(sample, vocabulary_size=vocab_size, window_size=10) for sample in sequences[:10]]"
      ],
      "execution_count": 25,
      "outputs": []
    },
    {
      "cell_type": "code",
      "metadata": {
        "id": "2NBBbnyjXjUv",
        "colab": {
          "base_uri": "https://localhost:8080/"
        },
        "outputId": "3e5ea9f5-c3cc-4233-9d47-2385f40e7d72"
      },
      "source": [
        "pairs, labels = skip_grams[0][0], skip_grams[0][1]\n",
        "for i in range(5):\n",
        "  print('{:s}({:d}), {:s}({:d}) -> {:d}'.format(\n",
        "      idx2word[pairs[i][0]], pairs[i][0],\n",
        "      idx2word[pairs[i][1]], pairs[i][1],\n",
        "      labels[i]\n",
        "  ))"
      ],
      "execution_count": 27,
      "outputs": [
        {
          "output_type": "stream",
          "name": "stdout",
          "text": [
            "europeans(3453), cogently(9674) -> 0\n",
            "media(483), rejecting(6310) -> 0\n",
            "least(108), pierreturgeon(24288) -> 0\n",
            "commited(4869), government(46) -> 1\n",
            "media(483), sidewalk(17017) -> 0\n"
          ]
        }
      ]
    },
    {
      "cell_type": "code",
      "metadata": {
        "id": "I_SCb1sMXlIV",
        "colab": {
          "base_uri": "https://localhost:8080/"
        },
        "outputId": "1e3fd792-643f-41d9-f8c1-7a76397af205"
      },
      "source": [
        "print(len(skip_grams))\n",
        "print(len(pairs))\n",
        "print(len(labels))"
      ],
      "execution_count": 28,
      "outputs": [
        {
          "output_type": "stream",
          "name": "stdout",
          "text": [
            "10\n",
            "2220\n",
            "2220\n"
          ]
        }
      ]
    },
    {
      "cell_type": "code",
      "metadata": {
        "id": "IiA53pYuXlMe"
      },
      "source": [
        "skip_grams = [skipgrams(sample, vocabulary_size=vocab_size, window_size=10) for sample in sequences]"
      ],
      "execution_count": 29,
      "outputs": []
    },
    {
      "cell_type": "markdown",
      "metadata": {
        "id": "rsIyKuKuqQpp"
      },
      "source": [
        "#### Skipgram 모델 구성"
      ]
    },
    {
      "cell_type": "code",
      "metadata": {
        "id": "y222fSJx2CwH"
      },
      "source": [
        "from tensorflow.keras.models import Sequential, Model\n",
        "from tensorflow.keras.layers import Embedding, Reshape, Activation, Input, Dot\n",
        "from tensorflow.keras.utils import plot_model"
      ],
      "execution_count": 30,
      "outputs": []
    },
    {
      "cell_type": "code",
      "metadata": {
        "id": "FQAT9ZdwPktd"
      },
      "source": [
        "embed_size = 50"
      ],
      "execution_count": 31,
      "outputs": []
    },
    {
      "cell_type": "code",
      "metadata": {
        "id": "5A4aGPBYPl-v"
      },
      "source": [
        "def word2vec():\n",
        "  target_inputs = Input(shape=(1, ), dtype='int32')\n",
        "  target_embedding = Embedding(vocab_size, embed_size)(target_inputs)\n",
        "\n",
        "  context_inputs = Input(shape=(1, ), dtype='int32')\n",
        "  context_embedding = Embedding(vocab_size, embed_size)(context_inputs)\n",
        "\n",
        "  dot_product = Dot(axes=2)([target_embedding, context_embedding])\n",
        "  dot_product = Reshape((1, ), input_shape=(1,1))(dot_product)\n",
        "  output = Activation('sigmoid')(dot_product)\n",
        "\n",
        "  model = Model(inputs=[target_inputs, context_inputs], outputs=output)\n",
        "  model.compile(loss='binary_crossentropy', optimizer='adam')\n",
        "\n",
        "  return model"
      ],
      "execution_count": 38,
      "outputs": []
    },
    {
      "cell_type": "code",
      "metadata": {
        "id": "uyyg1P7oPoM9",
        "colab": {
          "base_uri": "https://localhost:8080/",
          "height": 982
        },
        "outputId": "2f376abc-ccad-41da-afb8-7d31e5a4c9c5"
      },
      "source": [
        "model = word2vec()\n",
        "model.summary()\n",
        "plot_model(model, show_shapes=True, show_layer_names=True)"
      ],
      "execution_count": 39,
      "outputs": [
        {
          "output_type": "stream",
          "name": "stdout",
          "text": [
            "Model: \"model\"\n",
            "__________________________________________________________________________________________________\n",
            " Layer (type)                Output Shape                 Param #   Connected to                  \n",
            "==================================================================================================\n",
            " input_9 (InputLayer)        [(None, 1)]                  0         []                            \n",
            "                                                                                                  \n",
            " input_10 (InputLayer)       [(None, 1)]                  0         []                            \n",
            "                                                                                                  \n",
            " embedding_8 (Embedding)     (None, 1, 50)                1485300   ['input_9[0][0]']             \n",
            "                                                                                                  \n",
            " embedding_9 (Embedding)     (None, 1, 50)                1485300   ['input_10[0][0]']            \n",
            "                                                                                                  \n",
            " dot_4 (Dot)                 (None, 1, 1)                 0         ['embedding_8[0][0]',         \n",
            "                                                                     'embedding_9[0][0]']         \n",
            "                                                                                                  \n",
            " reshape_4 (Reshape)         (None, 1)                    0         ['dot_4[0][0]']               \n",
            "                                                                                                  \n",
            " activation_4 (Activation)   (None, 1)                    0         ['reshape_4[0][0]']           \n",
            "                                                                                                  \n",
            "==================================================================================================\n",
            "Total params: 2970600 (11.33 MB)\n",
            "Trainable params: 2970600 (11.33 MB)\n",
            "Non-trainable params: 0 (0.00 Byte)\n",
            "__________________________________________________________________________________________________\n"
          ]
        },
        {
          "output_type": "execute_result",
          "data": {
            "image/png": "[encoded data removed]",
            "text/plain": [
              "<IPython.core.display.Image object>"
            ]
          },
          "metadata": {},
          "execution_count": 39
        }
      ]
    },
    {
      "cell_type": "code",
      "metadata": {
        "id": "aKaWUC2DPpMG",
        "colab": {
          "base_uri": "https://localhost:8080/"
        },
        "outputId": "49088c54-9f26-4597-b154-3e20759d9a4c"
      },
      "source": [
        "for epoch in range(1, 11):\n",
        "  loss = 0\n",
        "  for _, elem in enumerate(skip_grams):\n",
        "    first_elem = np.array(list(zip(*elem[0]))[0], dtype='int32')\n",
        "    second_elem = np.array(list(zip(*elem[0]))[1], dtype='int32')\n",
        "    labels = np.array(elem[1], dtype='int32')\n",
        "    X = [first_elem, second_elem]\n",
        "    Y= labels\n",
        "    loss += model.train_on_batch(X, Y)\n",
        "  print('Epoch :', epoch, 'Loss :', loss)"
      ],
      "execution_count": 40,
      "outputs": [
        {
          "output_type": "stream",
          "name": "stdout",
          "text": [
            "Epoch : 1 Loss : 1225.573628976941\n",
            "Epoch : 2 Loss : 927.6292221844196\n",
            "Epoch : 3 Loss : 830.2256754785776\n",
            "Epoch : 4 Loss : 784.6904243975878\n",
            "Epoch : 5 Loss : 758.480696156621\n",
            "Epoch : 6 Loss : 739.1229286640882\n",
            "Epoch : 7 Loss : 720.3880063220859\n",
            "Epoch : 8 Loss : 698.6728767976165\n",
            "Epoch : 9 Loss : 672.1477688290179\n",
            "Epoch : 10 Loss : 639.9845084231347\n"
          ]
        }
      ]
    },
    {
      "cell_type": "code",
      "metadata": {
        "id": "zPNLRZqwXSib"
      },
      "source": [
        "import gensim\n",
        "\n",
        "f = open('skipgram.txt', 'w')\n",
        "f.write('{} {}\\n'.format(vocab_size-1, embed_size))\n",
        "vectors = model.get_weights()[0]\n",
        "for word, i in tokenizer.word_index.items():\n",
        "  f.write('{} {}\\n'.format(word, ' '.join(map(str, list(vectors[i, :])))))\n",
        "f.close()\n",
        "\n",
        "skipgram = gensim.models.KeyedVectors.load_word2vec_format('skipgram.txt', binary=False)"
      ],
      "execution_count": 41,
      "outputs": []
    },
    {
      "cell_type": "code",
      "metadata": {
        "id": "VmzFckXv9nk2",
        "colab": {
          "base_uri": "https://localhost:8080/"
        },
        "outputId": "32b70390-914d-4a2a-a1e0-8d073f376b4e"
      },
      "source": [
        "skipgram.most_similar(positive=['soldiers'])"
      ],
      "execution_count": 42,
      "outputs": [
        {
          "output_type": "execute_result",
          "data": {
            "text/plain": [
              "[('israeli', 0.7630130052566528),\n",
              " ('chased', 0.7097600698471069),\n",
              " ('irgunlehi', 0.7077009677886963),\n",
              " ('antitank', 0.686996340751648),\n",
              " ('terrorist', 0.6783268451690674),\n",
              " ('securing', 0.656786322593689),\n",
              " ('missiles', 0.6408311724662781),\n",
              " ('villagers', 0.6352365016937256),\n",
              " ('hamas', 0.6296595931053162),\n",
              " ('zionists', 0.6148183941841125)]"
            ]
          },
          "metadata": {},
          "execution_count": 42
        }
      ]
    },
    {
      "cell_type": "code",
      "metadata": {
        "id": "omo9v74q9oKD",
        "colab": {
          "base_uri": "https://localhost:8080/"
        },
        "outputId": "3eaf5136-766e-49a8-f920-ba88fb426268"
      },
      "source": [
        "skipgram.most_similar(positive=['world'])"
      ],
      "execution_count": 44,
      "outputs": [
        {
          "output_type": "execute_result",
          "data": {
            "text/plain": [
              "[('arise', 0.6385310888290405),\n",
              " ('assists', 0.6275869607925415),\n",
              " ('lindros', 0.6142882704734802),\n",
              " ('basis', 0.5893642902374268),\n",
              " ('acrid', 0.5824089050292969),\n",
              " ('olausson', 0.572663426399231),\n",
              " ('reputation', 0.570843517780304),\n",
              " ('confers', 0.5691702961921692),\n",
              " ('mourn', 0.5639621615409851),\n",
              " ('japanese', 0.56114661693573)]"
            ]
          },
          "metadata": {},
          "execution_count": 44
        }
      ]
    },
    {
      "cell_type": "markdown",
      "metadata": {
        "id": "vLfmfO1HqZxn"
      },
      "source": [
        "### CBOW\n"
      ]
    },
    {
      "cell_type": "markdown",
      "metadata": {
        "id": "BIrUD6Ph74ya"
      },
      "source": [
        "#### CBOW 전처리"
      ]
    },
    {
      "cell_type": "code",
      "metadata": {
        "id": "TNBmb-UK9tJ-"
      },
      "source": [
        "def skipgram2cbow(skipgrams):\n",
        "  cbows = []\n",
        "  flag = 0\n",
        "  for n in skip_grams:\n",
        "    temp1 = []\n",
        "    for t in n:\n",
        "      if flag == 1:\n",
        "        flag = 0\n",
        "        temp1.append(t)\n",
        "      else:\n",
        "        flag = 1\n",
        "        temp2 = []\n",
        "        for x in t:\n",
        "          temp2.append([x[1], x[0]])\n",
        "        temp1.append(temp2)\n",
        "    cbows.append(temp1)\n",
        "\n",
        "  return cbows"
      ],
      "execution_count": 50,
      "outputs": []
    },
    {
      "cell_type": "code",
      "metadata": {
        "id": "BEIHgfWeALbL"
      },
      "source": [
        "cbows = skipgram2cbow(skip_grams)"
      ],
      "execution_count": 51,
      "outputs": []
    },
    {
      "cell_type": "code",
      "metadata": {
        "id": "bPnygNQO1vjJ",
        "colab": {
          "base_uri": "https://localhost:8080/"
        },
        "outputId": "691e766e-4f3b-4b69-8d22-b188a14b50e6"
      },
      "source": [
        "pairs, labels = cbows[0][0], cbows[0][1]\n",
        "for i in range(5):\n",
        "  print('{:s}({:d}), {:s}({:d}) -> {:d}'.format(\n",
        "      idx2word[pairs[i][0]], pairs[i][0],\n",
        "      idx2word[pairs[i][1]], pairs[i][1],\n",
        "      labels[i]\n",
        "  ))"
      ],
      "execution_count": 52,
      "outputs": [
        {
          "output_type": "stream",
          "name": "stdout",
          "text": [
            "guilt(6821), makes(201) -> 1\n",
            "announcement(1984), holocaust(2518) -> 0\n",
            "ruin(12415), media(483) -> 1\n",
            "received(374), acts(1277) -> 1\n",
            "proisraeli(12417), seem(167) -> 1\n"
          ]
        }
      ]
    },
    {
      "cell_type": "code",
      "metadata": {
        "id": "n7dyMzMz1xXd",
        "colab": {
          "base_uri": "https://localhost:8080/"
        },
        "outputId": "3e5ab42a-94fc-452c-c92b-08d13812d0f3"
      },
      "source": [
        "print(len(cbows))\n",
        "print(len(pairs))\n",
        "print(len(labels))"
      ],
      "execution_count": 53,
      "outputs": [
        {
          "output_type": "stream",
          "name": "stdout",
          "text": [
            "2000\n",
            "2220\n",
            "2220\n"
          ]
        }
      ]
    },
    {
      "cell_type": "markdown",
      "metadata": {
        "id": "D4ulkMuv79SL"
      },
      "source": [
        "#### CBOW 모델 구성"
      ]
    },
    {
      "cell_type": "code",
      "metadata": {
        "id": "XMC5u4Pm8Glt",
        "colab": {
          "base_uri": "https://localhost:8080/",
          "height": 982
        },
        "outputId": "9edd2903-19ed-4c0b-c67b-3a9ef96b5d03"
      },
      "source": [
        "model = word2vec()\n",
        "model.summary()\n",
        "plot_model(model, show_shapes=True, show_layer_names=True)"
      ],
      "execution_count": 54,
      "outputs": [
        {
          "output_type": "stream",
          "name": "stdout",
          "text": [
            "Model: \"model_1\"\n",
            "__________________________________________________________________________________________________\n",
            " Layer (type)                Output Shape                 Param #   Connected to                  \n",
            "==================================================================================================\n",
            " input_11 (InputLayer)       [(None, 1)]                  0         []                            \n",
            "                                                                                                  \n",
            " input_12 (InputLayer)       [(None, 1)]                  0         []                            \n",
            "                                                                                                  \n",
            " embedding_10 (Embedding)    (None, 1, 50)                1485300   ['input_11[0][0]']            \n",
            "                                                                                                  \n",
            " embedding_11 (Embedding)    (None, 1, 50)                1485300   ['input_12[0][0]']            \n",
            "                                                                                                  \n",
            " dot_5 (Dot)                 (None, 1, 1)                 0         ['embedding_10[0][0]',        \n",
            "                                                                     'embedding_11[0][0]']        \n",
            "                                                                                                  \n",
            " reshape_5 (Reshape)         (None, 1)                    0         ['dot_5[0][0]']               \n",
            "                                                                                                  \n",
            " activation_5 (Activation)   (None, 1)                    0         ['reshape_5[0][0]']           \n",
            "                                                                                                  \n",
            "==================================================================================================\n",
            "Total params: 2970600 (11.33 MB)\n",
            "Trainable params: 2970600 (11.33 MB)\n",
            "Non-trainable params: 0 (0.00 Byte)\n",
            "__________________________________________________________________________________________________\n"
          ]
        },
        {
          "output_type": "execute_result",
          "data": {
            "image/png": "[encoded data removed]",
            "text/plain": [
              "<IPython.core.display.Image object>"
            ]
          },
          "metadata": {},
          "execution_count": 54
        }
      ]
    },
    {
      "cell_type": "code",
      "metadata": {
        "id": "6yVXxpfs8JJX",
        "colab": {
          "base_uri": "https://localhost:8080/"
        },
        "outputId": "27542cad-8e3a-415d-f8d3-eba629306fcf"
      },
      "source": [
        "for epoch in range(1, 11):\n",
        "  loss = 0\n",
        "  for _, elem in enumerate(cbows):\n",
        "    first_elem = np.array(list(zip(*elem[0]))[0], dtype='int32')\n",
        "    second_elem = np.array(list(zip(*elem[0]))[1], dtype='int32')\n",
        "    labels = np.array(elem[1], dtype='int32')\n",
        "    X = [first_elem, second_elem]\n",
        "    Y= labels\n",
        "    loss += model.train_on_batch(X, Y)\n",
        "\n",
        "  print('Epoch :', epoch, 'Loss :', loss)"
      ],
      "execution_count": 57,
      "outputs": [
        {
          "output_type": "stream",
          "name": "stdout",
          "text": [
            "Epoch : 1 Loss : 1017.0612982660532\n",
            "Epoch : 2 Loss : 872.1552686467767\n",
            "Epoch : 3 Loss : 809.1588559597731\n",
            "Epoch : 4 Loss : 774.9501486495137\n",
            "Epoch : 5 Loss : 751.9705650955439\n",
            "Epoch : 6 Loss : 731.6976587325335\n",
            "Epoch : 7 Loss : 709.9210721030831\n",
            "Epoch : 8 Loss : 684.1560092903674\n",
            "Epoch : 9 Loss : 653.5420840010047\n",
            "Epoch : 10 Loss : 618.1629142854363\n"
          ]
        }
      ]
    },
    {
      "cell_type": "code",
      "metadata": {
        "id": "POXBaE0d8LFe"
      },
      "source": [
        "import gensim\n",
        "\n",
        "f = open('cbow.txt', 'w')\n",
        "f.write('{} {}\\n'.format(vocab_size-1, embed_size))\n",
        "vectors = model.get_weights()[0]\n",
        "for word, i in tokenizer.word_index.items():\n",
        "  f.write('{} {}\\n'.format(word, ' '.join(map(str, list(vectors[i, :])))))\n",
        "f.close()\n",
        "\n",
        "cbow = gensim.models.KeyedVectors.load_word2vec_format('cbow.txt', binary=False)"
      ],
      "execution_count": 58,
      "outputs": []
    },
    {
      "cell_type": "code",
      "metadata": {
        "id": "LK4u6zG49gVn",
        "colab": {
          "base_uri": "https://localhost:8080/"
        },
        "outputId": "efd1f487-e7f0-4eac-af42-be6f612b4e9e"
      },
      "source": [
        "cbow.most_similar(positive=['soldier'])"
      ],
      "execution_count": 59,
      "outputs": [
        {
          "output_type": "execute_result",
          "data": {
            "text/plain": [
              "[('booby', 0.9490228295326233),\n",
              " ('retalliates', 0.9486141800880432),\n",
              " ('pilots', 0.9461234211921692),\n",
              " ('herds', 0.9401997327804565),\n",
              " ('gunshots', 0.9371756911277771),\n",
              " ('traps', 0.9369518756866455),\n",
              " ('ammunitions', 0.9340498447418213),\n",
              " ('destroys', 0.9327108263969421),\n",
              " ('highland', 0.9312352538108826),\n",
              " ('abandoning', 0.931072473526001)]"
            ]
          },
          "metadata": {},
          "execution_count": 59
        }
      ]
    },
    {
      "cell_type": "code",
      "metadata": {
        "id": "h6fQuZSs9hqM",
        "colab": {
          "base_uri": "https://localhost:8080/"
        },
        "outputId": "97cdfd9a-61b6-4219-f248-b3f4c6192cfe"
      },
      "source": [
        "cbow.most_similar(positive=['world'])"
      ],
      "execution_count": 60,
      "outputs": [
        {
          "output_type": "execute_result",
          "data": {
            "text/plain": [
              "[('much', 0.9348142743110657),\n",
              " ('true', 0.934765636920929),\n",
              " ('first', 0.9313299059867859),\n",
              " ('people', 0.9302164912223816),\n",
              " ('begin', 0.9301571249961853),\n",
              " ('jews', 0.9268389940261841),\n",
              " ('love', 0.926407516002655),\n",
              " ('problems', 0.9250004291534424),\n",
              " ('without', 0.9243590235710144),\n",
              " ('history', 0.9216774106025696)]"
            ]
          },
          "metadata": {},
          "execution_count": 60
        }
      ]
    }
  ]
}